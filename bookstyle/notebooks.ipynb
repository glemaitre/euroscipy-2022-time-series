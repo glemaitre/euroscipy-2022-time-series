{
 "cells": [
  {
   "cell_type": "code",
   "execution_count": 3,
   "metadata": {},
   "outputs": [],
   "source": [
    "import seaborn as sns\n",
    "sns.set_context(\"poster\")"
   ]
  },
  {
   "cell_type": "code",
   "execution_count": 4,
   "metadata": {},
   "outputs": [
    {
     "data": {
      "text/html": [
       "<div>\n",
       "<style scoped>\n",
       "    .dataframe tbody tr th:only-of-type {\n",
       "        vertical-align: middle;\n",
       "    }\n",
       "\n",
       "    .dataframe tbody tr th {\n",
       "        vertical-align: top;\n",
       "    }\n",
       "\n",
       "    .dataframe thead th {\n",
       "        text-align: right;\n",
       "    }\n",
       "</style>\n",
       "<table border=\"1\" class=\"dataframe\">\n",
       "  <thead>\n",
       "    <tr style=\"text-align: right;\">\n",
       "      <th></th>\n",
       "      <th>season</th>\n",
       "      <th>year</th>\n",
       "      <th>month</th>\n",
       "      <th>hour</th>\n",
       "      <th>holiday</th>\n",
       "      <th>weekday</th>\n",
       "      <th>workingday</th>\n",
       "      <th>weather</th>\n",
       "      <th>temp</th>\n",
       "      <th>feel_temp</th>\n",
       "      <th>humidity</th>\n",
       "      <th>windspeed</th>\n",
       "      <th>count</th>\n",
       "    </tr>\n",
       "  </thead>\n",
       "  <tbody>\n",
       "    <tr>\n",
       "      <th>0</th>\n",
       "      <td>spring</td>\n",
       "      <td>0</td>\n",
       "      <td>1</td>\n",
       "      <td>0</td>\n",
       "      <td>False</td>\n",
       "      <td>6</td>\n",
       "      <td>False</td>\n",
       "      <td>clear</td>\n",
       "      <td>9.84</td>\n",
       "      <td>14.395</td>\n",
       "      <td>0.81</td>\n",
       "      <td>0.0000</td>\n",
       "      <td>16</td>\n",
       "    </tr>\n",
       "    <tr>\n",
       "      <th>1</th>\n",
       "      <td>spring</td>\n",
       "      <td>0</td>\n",
       "      <td>1</td>\n",
       "      <td>1</td>\n",
       "      <td>False</td>\n",
       "      <td>6</td>\n",
       "      <td>False</td>\n",
       "      <td>clear</td>\n",
       "      <td>9.02</td>\n",
       "      <td>13.635</td>\n",
       "      <td>0.80</td>\n",
       "      <td>0.0000</td>\n",
       "      <td>40</td>\n",
       "    </tr>\n",
       "    <tr>\n",
       "      <th>2</th>\n",
       "      <td>spring</td>\n",
       "      <td>0</td>\n",
       "      <td>1</td>\n",
       "      <td>2</td>\n",
       "      <td>False</td>\n",
       "      <td>6</td>\n",
       "      <td>False</td>\n",
       "      <td>clear</td>\n",
       "      <td>9.02</td>\n",
       "      <td>13.635</td>\n",
       "      <td>0.80</td>\n",
       "      <td>0.0000</td>\n",
       "      <td>32</td>\n",
       "    </tr>\n",
       "    <tr>\n",
       "      <th>3</th>\n",
       "      <td>spring</td>\n",
       "      <td>0</td>\n",
       "      <td>1</td>\n",
       "      <td>3</td>\n",
       "      <td>False</td>\n",
       "      <td>6</td>\n",
       "      <td>False</td>\n",
       "      <td>clear</td>\n",
       "      <td>9.84</td>\n",
       "      <td>14.395</td>\n",
       "      <td>0.75</td>\n",
       "      <td>0.0000</td>\n",
       "      <td>13</td>\n",
       "    </tr>\n",
       "    <tr>\n",
       "      <th>4</th>\n",
       "      <td>spring</td>\n",
       "      <td>0</td>\n",
       "      <td>1</td>\n",
       "      <td>4</td>\n",
       "      <td>False</td>\n",
       "      <td>6</td>\n",
       "      <td>False</td>\n",
       "      <td>clear</td>\n",
       "      <td>9.84</td>\n",
       "      <td>14.395</td>\n",
       "      <td>0.75</td>\n",
       "      <td>0.0000</td>\n",
       "      <td>1</td>\n",
       "    </tr>\n",
       "    <tr>\n",
       "      <th>...</th>\n",
       "      <td>...</td>\n",
       "      <td>...</td>\n",
       "      <td>...</td>\n",
       "      <td>...</td>\n",
       "      <td>...</td>\n",
       "      <td>...</td>\n",
       "      <td>...</td>\n",
       "      <td>...</td>\n",
       "      <td>...</td>\n",
       "      <td>...</td>\n",
       "      <td>...</td>\n",
       "      <td>...</td>\n",
       "      <td>...</td>\n",
       "    </tr>\n",
       "    <tr>\n",
       "      <th>17374</th>\n",
       "      <td>spring</td>\n",
       "      <td>1</td>\n",
       "      <td>12</td>\n",
       "      <td>19</td>\n",
       "      <td>False</td>\n",
       "      <td>1</td>\n",
       "      <td>True</td>\n",
       "      <td>misty</td>\n",
       "      <td>10.66</td>\n",
       "      <td>12.880</td>\n",
       "      <td>0.60</td>\n",
       "      <td>11.0014</td>\n",
       "      <td>119</td>\n",
       "    </tr>\n",
       "    <tr>\n",
       "      <th>17375</th>\n",
       "      <td>spring</td>\n",
       "      <td>1</td>\n",
       "      <td>12</td>\n",
       "      <td>20</td>\n",
       "      <td>False</td>\n",
       "      <td>1</td>\n",
       "      <td>True</td>\n",
       "      <td>misty</td>\n",
       "      <td>10.66</td>\n",
       "      <td>12.880</td>\n",
       "      <td>0.60</td>\n",
       "      <td>11.0014</td>\n",
       "      <td>89</td>\n",
       "    </tr>\n",
       "    <tr>\n",
       "      <th>17376</th>\n",
       "      <td>spring</td>\n",
       "      <td>1</td>\n",
       "      <td>12</td>\n",
       "      <td>21</td>\n",
       "      <td>False</td>\n",
       "      <td>1</td>\n",
       "      <td>True</td>\n",
       "      <td>clear</td>\n",
       "      <td>10.66</td>\n",
       "      <td>12.880</td>\n",
       "      <td>0.60</td>\n",
       "      <td>11.0014</td>\n",
       "      <td>90</td>\n",
       "    </tr>\n",
       "    <tr>\n",
       "      <th>17377</th>\n",
       "      <td>spring</td>\n",
       "      <td>1</td>\n",
       "      <td>12</td>\n",
       "      <td>22</td>\n",
       "      <td>False</td>\n",
       "      <td>1</td>\n",
       "      <td>True</td>\n",
       "      <td>clear</td>\n",
       "      <td>10.66</td>\n",
       "      <td>13.635</td>\n",
       "      <td>0.56</td>\n",
       "      <td>8.9981</td>\n",
       "      <td>61</td>\n",
       "    </tr>\n",
       "    <tr>\n",
       "      <th>17378</th>\n",
       "      <td>spring</td>\n",
       "      <td>1</td>\n",
       "      <td>12</td>\n",
       "      <td>23</td>\n",
       "      <td>False</td>\n",
       "      <td>1</td>\n",
       "      <td>True</td>\n",
       "      <td>clear</td>\n",
       "      <td>10.66</td>\n",
       "      <td>13.635</td>\n",
       "      <td>0.65</td>\n",
       "      <td>8.9981</td>\n",
       "      <td>49</td>\n",
       "    </tr>\n",
       "  </tbody>\n",
       "</table>\n",
       "<p>17379 rows × 13 columns</p>\n",
       "</div>"
      ],
      "text/plain": [
       "       season  year  month  hour holiday  weekday workingday weather   temp  \\\n",
       "0      spring     0      1     0   False        6      False   clear   9.84   \n",
       "1      spring     0      1     1   False        6      False   clear   9.02   \n",
       "2      spring     0      1     2   False        6      False   clear   9.02   \n",
       "3      spring     0      1     3   False        6      False   clear   9.84   \n",
       "4      spring     0      1     4   False        6      False   clear   9.84   \n",
       "...       ...   ...    ...   ...     ...      ...        ...     ...    ...   \n",
       "17374  spring     1     12    19   False        1       True   misty  10.66   \n",
       "17375  spring     1     12    20   False        1       True   misty  10.66   \n",
       "17376  spring     1     12    21   False        1       True   clear  10.66   \n",
       "17377  spring     1     12    22   False        1       True   clear  10.66   \n",
       "17378  spring     1     12    23   False        1       True   clear  10.66   \n",
       "\n",
       "       feel_temp  humidity  windspeed  count  \n",
       "0         14.395      0.81     0.0000     16  \n",
       "1         13.635      0.80     0.0000     40  \n",
       "2         13.635      0.80     0.0000     32  \n",
       "3         14.395      0.75     0.0000     13  \n",
       "4         14.395      0.75     0.0000      1  \n",
       "...          ...       ...        ...    ...  \n",
       "17374     12.880      0.60    11.0014    119  \n",
       "17375     12.880      0.60    11.0014     89  \n",
       "17376     12.880      0.60    11.0014     90  \n",
       "17377     13.635      0.56     8.9981     61  \n",
       "17378     13.635      0.65     8.9981     49  \n",
       "\n",
       "[17379 rows x 13 columns]"
      ]
     },
     "execution_count": 4,
     "metadata": {},
     "output_type": "execute_result"
    }
   ],
   "source": [
    "from sklearn.datasets import fetch_openml\n",
    "\n",
    "bike_sharing = fetch_openml(\n",
    "    \"Bike_Sharing_Demand\", version=2, as_frame=True, parser=\"pandas\",\n",
    ")\n",
    "bike_sharing.frame"
   ]
  },
  {
   "cell_type": "code",
   "execution_count": 5,
   "metadata": {},
   "outputs": [],
   "source": [
    "import pandas as pd\n",
    "original_df = pd.read_csv(\"../hour.csv\")"
   ]
  },
  {
   "cell_type": "code",
   "execution_count": 6,
   "metadata": {},
   "outputs": [],
   "source": [
    "df = pd.concat([bike_sharing.frame, original_df[[\"dteday\"]]], axis=1)"
   ]
  },
  {
   "cell_type": "code",
   "execution_count": 7,
   "metadata": {},
   "outputs": [],
   "source": [
    "df[\"dteday\"] = pd.to_datetime(df[\"dteday\"])"
   ]
  },
  {
   "cell_type": "code",
   "execution_count": 8,
   "metadata": {},
   "outputs": [],
   "source": [
    "hour_offset = df[\"hour\"].apply(lambda x: pd.DateOffset(hours=x))"
   ]
  },
  {
   "cell_type": "code",
   "execution_count": 9,
   "metadata": {},
   "outputs": [
    {
     "name": "stderr",
     "output_type": "stream",
     "text": [
      "/tmp/ipykernel_224982/3820908605.py:1: PerformanceWarning: Adding/subtracting object-dtype array to DatetimeArray not vectorized.\n",
      "  df[\"dteday\"] = df[\"dteday\"] + hour_offset\n"
     ]
    }
   ],
   "source": [
    "df[\"dteday\"] = df[\"dteday\"] + hour_offset"
   ]
  },
  {
   "cell_type": "code",
   "execution_count": 10,
   "metadata": {},
   "outputs": [],
   "source": [
    "df = df.set_index(\"dteday\")"
   ]
  },
  {
   "cell_type": "code",
   "execution_count": 11,
   "metadata": {},
   "outputs": [
    {
     "data": {
      "text/html": [
       "<div>\n",
       "<style scoped>\n",
       "    .dataframe tbody tr th:only-of-type {\n",
       "        vertical-align: middle;\n",
       "    }\n",
       "\n",
       "    .dataframe tbody tr th {\n",
       "        vertical-align: top;\n",
       "    }\n",
       "\n",
       "    .dataframe thead th {\n",
       "        text-align: right;\n",
       "    }\n",
       "</style>\n",
       "<table border=\"1\" class=\"dataframe\">\n",
       "  <thead>\n",
       "    <tr style=\"text-align: right;\">\n",
       "      <th></th>\n",
       "      <th>season</th>\n",
       "      <th>year</th>\n",
       "      <th>month</th>\n",
       "      <th>hour</th>\n",
       "      <th>holiday</th>\n",
       "      <th>weekday</th>\n",
       "      <th>workingday</th>\n",
       "      <th>weather</th>\n",
       "      <th>temp</th>\n",
       "      <th>feel_temp</th>\n",
       "      <th>humidity</th>\n",
       "      <th>windspeed</th>\n",
       "      <th>count</th>\n",
       "    </tr>\n",
       "    <tr>\n",
       "      <th>dteday</th>\n",
       "      <th></th>\n",
       "      <th></th>\n",
       "      <th></th>\n",
       "      <th></th>\n",
       "      <th></th>\n",
       "      <th></th>\n",
       "      <th></th>\n",
       "      <th></th>\n",
       "      <th></th>\n",
       "      <th></th>\n",
       "      <th></th>\n",
       "      <th></th>\n",
       "      <th></th>\n",
       "    </tr>\n",
       "  </thead>\n",
       "  <tbody>\n",
       "    <tr>\n",
       "      <th>2011-01-01 00:00:00</th>\n",
       "      <td>spring</td>\n",
       "      <td>0</td>\n",
       "      <td>1</td>\n",
       "      <td>0</td>\n",
       "      <td>False</td>\n",
       "      <td>6</td>\n",
       "      <td>False</td>\n",
       "      <td>clear</td>\n",
       "      <td>9.84</td>\n",
       "      <td>14.395</td>\n",
       "      <td>0.81</td>\n",
       "      <td>0.0000</td>\n",
       "      <td>16</td>\n",
       "    </tr>\n",
       "    <tr>\n",
       "      <th>2011-01-01 01:00:00</th>\n",
       "      <td>spring</td>\n",
       "      <td>0</td>\n",
       "      <td>1</td>\n",
       "      <td>1</td>\n",
       "      <td>False</td>\n",
       "      <td>6</td>\n",
       "      <td>False</td>\n",
       "      <td>clear</td>\n",
       "      <td>9.02</td>\n",
       "      <td>13.635</td>\n",
       "      <td>0.80</td>\n",
       "      <td>0.0000</td>\n",
       "      <td>40</td>\n",
       "    </tr>\n",
       "    <tr>\n",
       "      <th>2011-01-01 02:00:00</th>\n",
       "      <td>spring</td>\n",
       "      <td>0</td>\n",
       "      <td>1</td>\n",
       "      <td>2</td>\n",
       "      <td>False</td>\n",
       "      <td>6</td>\n",
       "      <td>False</td>\n",
       "      <td>clear</td>\n",
       "      <td>9.02</td>\n",
       "      <td>13.635</td>\n",
       "      <td>0.80</td>\n",
       "      <td>0.0000</td>\n",
       "      <td>32</td>\n",
       "    </tr>\n",
       "    <tr>\n",
       "      <th>2011-01-01 03:00:00</th>\n",
       "      <td>spring</td>\n",
       "      <td>0</td>\n",
       "      <td>1</td>\n",
       "      <td>3</td>\n",
       "      <td>False</td>\n",
       "      <td>6</td>\n",
       "      <td>False</td>\n",
       "      <td>clear</td>\n",
       "      <td>9.84</td>\n",
       "      <td>14.395</td>\n",
       "      <td>0.75</td>\n",
       "      <td>0.0000</td>\n",
       "      <td>13</td>\n",
       "    </tr>\n",
       "    <tr>\n",
       "      <th>2011-01-01 04:00:00</th>\n",
       "      <td>spring</td>\n",
       "      <td>0</td>\n",
       "      <td>1</td>\n",
       "      <td>4</td>\n",
       "      <td>False</td>\n",
       "      <td>6</td>\n",
       "      <td>False</td>\n",
       "      <td>clear</td>\n",
       "      <td>9.84</td>\n",
       "      <td>14.395</td>\n",
       "      <td>0.75</td>\n",
       "      <td>0.0000</td>\n",
       "      <td>1</td>\n",
       "    </tr>\n",
       "    <tr>\n",
       "      <th>...</th>\n",
       "      <td>...</td>\n",
       "      <td>...</td>\n",
       "      <td>...</td>\n",
       "      <td>...</td>\n",
       "      <td>...</td>\n",
       "      <td>...</td>\n",
       "      <td>...</td>\n",
       "      <td>...</td>\n",
       "      <td>...</td>\n",
       "      <td>...</td>\n",
       "      <td>...</td>\n",
       "      <td>...</td>\n",
       "      <td>...</td>\n",
       "    </tr>\n",
       "    <tr>\n",
       "      <th>2012-12-31 19:00:00</th>\n",
       "      <td>spring</td>\n",
       "      <td>1</td>\n",
       "      <td>12</td>\n",
       "      <td>19</td>\n",
       "      <td>False</td>\n",
       "      <td>1</td>\n",
       "      <td>True</td>\n",
       "      <td>misty</td>\n",
       "      <td>10.66</td>\n",
       "      <td>12.880</td>\n",
       "      <td>0.60</td>\n",
       "      <td>11.0014</td>\n",
       "      <td>119</td>\n",
       "    </tr>\n",
       "    <tr>\n",
       "      <th>2012-12-31 20:00:00</th>\n",
       "      <td>spring</td>\n",
       "      <td>1</td>\n",
       "      <td>12</td>\n",
       "      <td>20</td>\n",
       "      <td>False</td>\n",
       "      <td>1</td>\n",
       "      <td>True</td>\n",
       "      <td>misty</td>\n",
       "      <td>10.66</td>\n",
       "      <td>12.880</td>\n",
       "      <td>0.60</td>\n",
       "      <td>11.0014</td>\n",
       "      <td>89</td>\n",
       "    </tr>\n",
       "    <tr>\n",
       "      <th>2012-12-31 21:00:00</th>\n",
       "      <td>spring</td>\n",
       "      <td>1</td>\n",
       "      <td>12</td>\n",
       "      <td>21</td>\n",
       "      <td>False</td>\n",
       "      <td>1</td>\n",
       "      <td>True</td>\n",
       "      <td>clear</td>\n",
       "      <td>10.66</td>\n",
       "      <td>12.880</td>\n",
       "      <td>0.60</td>\n",
       "      <td>11.0014</td>\n",
       "      <td>90</td>\n",
       "    </tr>\n",
       "    <tr>\n",
       "      <th>2012-12-31 22:00:00</th>\n",
       "      <td>spring</td>\n",
       "      <td>1</td>\n",
       "      <td>12</td>\n",
       "      <td>22</td>\n",
       "      <td>False</td>\n",
       "      <td>1</td>\n",
       "      <td>True</td>\n",
       "      <td>clear</td>\n",
       "      <td>10.66</td>\n",
       "      <td>13.635</td>\n",
       "      <td>0.56</td>\n",
       "      <td>8.9981</td>\n",
       "      <td>61</td>\n",
       "    </tr>\n",
       "    <tr>\n",
       "      <th>2012-12-31 23:00:00</th>\n",
       "      <td>spring</td>\n",
       "      <td>1</td>\n",
       "      <td>12</td>\n",
       "      <td>23</td>\n",
       "      <td>False</td>\n",
       "      <td>1</td>\n",
       "      <td>True</td>\n",
       "      <td>clear</td>\n",
       "      <td>10.66</td>\n",
       "      <td>13.635</td>\n",
       "      <td>0.65</td>\n",
       "      <td>8.9981</td>\n",
       "      <td>49</td>\n",
       "    </tr>\n",
       "  </tbody>\n",
       "</table>\n",
       "<p>17379 rows × 13 columns</p>\n",
       "</div>"
      ],
      "text/plain": [
       "                     season  year  month  hour holiday  weekday workingday  \\\n",
       "dteday                                                                       \n",
       "2011-01-01 00:00:00  spring     0      1     0   False        6      False   \n",
       "2011-01-01 01:00:00  spring     0      1     1   False        6      False   \n",
       "2011-01-01 02:00:00  spring     0      1     2   False        6      False   \n",
       "2011-01-01 03:00:00  spring     0      1     3   False        6      False   \n",
       "2011-01-01 04:00:00  spring     0      1     4   False        6      False   \n",
       "...                     ...   ...    ...   ...     ...      ...        ...   \n",
       "2012-12-31 19:00:00  spring     1     12    19   False        1       True   \n",
       "2012-12-31 20:00:00  spring     1     12    20   False        1       True   \n",
       "2012-12-31 21:00:00  spring     1     12    21   False        1       True   \n",
       "2012-12-31 22:00:00  spring     1     12    22   False        1       True   \n",
       "2012-12-31 23:00:00  spring     1     12    23   False        1       True   \n",
       "\n",
       "                    weather   temp  feel_temp  humidity  windspeed  count  \n",
       "dteday                                                                     \n",
       "2011-01-01 00:00:00   clear   9.84     14.395      0.81     0.0000     16  \n",
       "2011-01-01 01:00:00   clear   9.02     13.635      0.80     0.0000     40  \n",
       "2011-01-01 02:00:00   clear   9.02     13.635      0.80     0.0000     32  \n",
       "2011-01-01 03:00:00   clear   9.84     14.395      0.75     0.0000     13  \n",
       "2011-01-01 04:00:00   clear   9.84     14.395      0.75     0.0000      1  \n",
       "...                     ...    ...        ...       ...        ...    ...  \n",
       "2012-12-31 19:00:00   misty  10.66     12.880      0.60    11.0014    119  \n",
       "2012-12-31 20:00:00   misty  10.66     12.880      0.60    11.0014     89  \n",
       "2012-12-31 21:00:00   clear  10.66     12.880      0.60    11.0014     90  \n",
       "2012-12-31 22:00:00   clear  10.66     13.635      0.56     8.9981     61  \n",
       "2012-12-31 23:00:00   clear  10.66     13.635      0.65     8.9981     49  \n",
       "\n",
       "[17379 rows x 13 columns]"
      ]
     },
     "execution_count": 11,
     "metadata": {},
     "output_type": "execute_result"
    }
   ],
   "source": [
    "df"
   ]
  },
  {
   "cell_type": "code",
   "execution_count": 12,
   "metadata": {},
   "outputs": [],
   "source": [
    "X, y = bike_sharing.frame.drop(columns=\"count\"), bike_sharing.frame[\"count\"]"
   ]
  },
  {
   "cell_type": "code",
   "execution_count": 13,
   "metadata": {},
   "outputs": [],
   "source": [
    "X, y = df.drop(columns=\"count\"), df[\"count\"]"
   ]
  },
  {
   "cell_type": "code",
   "execution_count": 34,
   "metadata": {},
   "outputs": [
    {
     "data": {
      "text/html": [
       "<style>#sk-container-id-4 {color: black;background-color: white;}#sk-container-id-4 pre{padding: 0;}#sk-container-id-4 div.sk-toggleable {background-color: white;}#sk-container-id-4 label.sk-toggleable__label {cursor: pointer;display: block;width: 100%;margin-bottom: 0;padding: 0.3em;box-sizing: border-box;text-align: center;}#sk-container-id-4 label.sk-toggleable__label-arrow:before {content: \"▸\";float: left;margin-right: 0.25em;color: #696969;}#sk-container-id-4 label.sk-toggleable__label-arrow:hover:before {color: black;}#sk-container-id-4 div.sk-estimator:hover label.sk-toggleable__label-arrow:before {color: black;}#sk-container-id-4 div.sk-toggleable__content {max-height: 0;max-width: 0;overflow: hidden;text-align: left;background-color: #f0f8ff;}#sk-container-id-4 div.sk-toggleable__content pre {margin: 0.2em;color: black;border-radius: 0.25em;background-color: #f0f8ff;}#sk-container-id-4 input.sk-toggleable__control:checked~div.sk-toggleable__content {max-height: 200px;max-width: 100%;overflow: auto;}#sk-container-id-4 input.sk-toggleable__control:checked~label.sk-toggleable__label-arrow:before {content: \"▾\";}#sk-container-id-4 div.sk-estimator input.sk-toggleable__control:checked~label.sk-toggleable__label {background-color: #d4ebff;}#sk-container-id-4 div.sk-label input.sk-toggleable__control:checked~label.sk-toggleable__label {background-color: #d4ebff;}#sk-container-id-4 input.sk-hidden--visually {border: 0;clip: rect(1px 1px 1px 1px);clip: rect(1px, 1px, 1px, 1px);height: 1px;margin: -1px;overflow: hidden;padding: 0;position: absolute;width: 1px;}#sk-container-id-4 div.sk-estimator {font-family: monospace;background-color: #f0f8ff;border: 1px dotted black;border-radius: 0.25em;box-sizing: border-box;margin-bottom: 0.5em;}#sk-container-id-4 div.sk-estimator:hover {background-color: #d4ebff;}#sk-container-id-4 div.sk-parallel-item::after {content: \"\";width: 100%;border-bottom: 1px solid gray;flex-grow: 1;}#sk-container-id-4 div.sk-label:hover label.sk-toggleable__label {background-color: #d4ebff;}#sk-container-id-4 div.sk-serial::before {content: \"\";position: absolute;border-left: 1px solid gray;box-sizing: border-box;top: 0;bottom: 0;left: 50%;z-index: 0;}#sk-container-id-4 div.sk-serial {display: flex;flex-direction: column;align-items: center;background-color: white;padding-right: 0.2em;padding-left: 0.2em;position: relative;}#sk-container-id-4 div.sk-item {position: relative;z-index: 1;}#sk-container-id-4 div.sk-parallel {display: flex;align-items: stretch;justify-content: center;background-color: white;position: relative;}#sk-container-id-4 div.sk-item::before, #sk-container-id-4 div.sk-parallel-item::before {content: \"\";position: absolute;border-left: 1px solid gray;box-sizing: border-box;top: 0;bottom: 0;left: 50%;z-index: -1;}#sk-container-id-4 div.sk-parallel-item {display: flex;flex-direction: column;z-index: 1;position: relative;background-color: white;}#sk-container-id-4 div.sk-parallel-item:first-child::after {align-self: flex-end;width: 50%;}#sk-container-id-4 div.sk-parallel-item:last-child::after {align-self: flex-start;width: 50%;}#sk-container-id-4 div.sk-parallel-item:only-child::after {width: 0;}#sk-container-id-4 div.sk-dashed-wrapped {border: 1px dashed gray;margin: 0 0.4em 0.5em 0.4em;box-sizing: border-box;padding-bottom: 0.4em;background-color: white;}#sk-container-id-4 div.sk-label label {font-family: monospace;font-weight: bold;display: inline-block;line-height: 1.2em;}#sk-container-id-4 div.sk-label-container {text-align: center;}#sk-container-id-4 div.sk-container {/* jupyter's `normalize.less` sets `[hidden] { display: none; }` but bootstrap.min.css set `[hidden] { display: none !important; }` so we also need the `!important` here to be able to override the default hidden behavior on the sphinx rendered scikit-learn.org. See: https://github.com/scikit-learn/scikit-learn/issues/21755 */display: inline-block !important;position: relative;}#sk-container-id-4 div.sk-text-repr-fallback {display: none;}</style><div id=\"sk-container-id-4\" class=\"sk-top-container\"><div class=\"sk-text-repr-fallback\"><pre>Pipeline(steps=[(&#x27;columntransformer&#x27;,\n",
       "                 ColumnTransformer(transformers=[(&#x27;encoder&#x27;,\n",
       "                                                  OneHotEncoder(handle_unknown=&#x27;ignore&#x27;),\n",
       "                                                  [&#x27;season&#x27;, &#x27;holiday&#x27;,\n",
       "                                                   &#x27;workingday&#x27;, &#x27;weather&#x27;]),\n",
       "                                                 (&#x27;scaler&#x27;, StandardScaler(),\n",
       "                                                  [&#x27;year&#x27;, &#x27;month&#x27;, &#x27;hour&#x27;,\n",
       "                                                   &#x27;weekday&#x27;, &#x27;temp&#x27;,\n",
       "                                                   &#x27;feel_temp&#x27;, &#x27;humidity&#x27;,\n",
       "                                                   &#x27;windspeed&#x27;])])),\n",
       "                (&#x27;kneighborsregressor&#x27;, KNeighborsRegressor(n_neighbors=1))])</pre><b>In a Jupyter environment, please rerun this cell to show the HTML representation or trust the notebook. <br />On GitHub, the HTML representation is unable to render, please try loading this page with nbviewer.org.</b></div><div class=\"sk-container\" hidden><div class=\"sk-item sk-dashed-wrapped\"><div class=\"sk-label-container\"><div class=\"sk-label sk-toggleable\"><input class=\"sk-toggleable__control sk-hidden--visually\" id=\"sk-estimator-id-22\" type=\"checkbox\" ><label for=\"sk-estimator-id-22\" class=\"sk-toggleable__label sk-toggleable__label-arrow\">Pipeline</label><div class=\"sk-toggleable__content\"><pre>Pipeline(steps=[(&#x27;columntransformer&#x27;,\n",
       "                 ColumnTransformer(transformers=[(&#x27;encoder&#x27;,\n",
       "                                                  OneHotEncoder(handle_unknown=&#x27;ignore&#x27;),\n",
       "                                                  [&#x27;season&#x27;, &#x27;holiday&#x27;,\n",
       "                                                   &#x27;workingday&#x27;, &#x27;weather&#x27;]),\n",
       "                                                 (&#x27;scaler&#x27;, StandardScaler(),\n",
       "                                                  [&#x27;year&#x27;, &#x27;month&#x27;, &#x27;hour&#x27;,\n",
       "                                                   &#x27;weekday&#x27;, &#x27;temp&#x27;,\n",
       "                                                   &#x27;feel_temp&#x27;, &#x27;humidity&#x27;,\n",
       "                                                   &#x27;windspeed&#x27;])])),\n",
       "                (&#x27;kneighborsregressor&#x27;, KNeighborsRegressor(n_neighbors=1))])</pre></div></div></div><div class=\"sk-serial\"><div class=\"sk-item sk-dashed-wrapped\"><div class=\"sk-label-container\"><div class=\"sk-label sk-toggleable\"><input class=\"sk-toggleable__control sk-hidden--visually\" id=\"sk-estimator-id-23\" type=\"checkbox\" ><label for=\"sk-estimator-id-23\" class=\"sk-toggleable__label sk-toggleable__label-arrow\">columntransformer: ColumnTransformer</label><div class=\"sk-toggleable__content\"><pre>ColumnTransformer(transformers=[(&#x27;encoder&#x27;,\n",
       "                                 OneHotEncoder(handle_unknown=&#x27;ignore&#x27;),\n",
       "                                 [&#x27;season&#x27;, &#x27;holiday&#x27;, &#x27;workingday&#x27;,\n",
       "                                  &#x27;weather&#x27;]),\n",
       "                                (&#x27;scaler&#x27;, StandardScaler(),\n",
       "                                 [&#x27;year&#x27;, &#x27;month&#x27;, &#x27;hour&#x27;, &#x27;weekday&#x27;, &#x27;temp&#x27;,\n",
       "                                  &#x27;feel_temp&#x27;, &#x27;humidity&#x27;, &#x27;windspeed&#x27;])])</pre></div></div></div><div class=\"sk-parallel\"><div class=\"sk-parallel-item\"><div class=\"sk-item\"><div class=\"sk-label-container\"><div class=\"sk-label sk-toggleable\"><input class=\"sk-toggleable__control sk-hidden--visually\" id=\"sk-estimator-id-24\" type=\"checkbox\" ><label for=\"sk-estimator-id-24\" class=\"sk-toggleable__label sk-toggleable__label-arrow\">encoder</label><div class=\"sk-toggleable__content\"><pre>[&#x27;season&#x27;, &#x27;holiday&#x27;, &#x27;workingday&#x27;, &#x27;weather&#x27;]</pre></div></div></div><div class=\"sk-serial\"><div class=\"sk-item\"><div class=\"sk-estimator sk-toggleable\"><input class=\"sk-toggleable__control sk-hidden--visually\" id=\"sk-estimator-id-25\" type=\"checkbox\" ><label for=\"sk-estimator-id-25\" class=\"sk-toggleable__label sk-toggleable__label-arrow\">OneHotEncoder</label><div class=\"sk-toggleable__content\"><pre>OneHotEncoder(handle_unknown=&#x27;ignore&#x27;)</pre></div></div></div></div></div></div><div class=\"sk-parallel-item\"><div class=\"sk-item\"><div class=\"sk-label-container\"><div class=\"sk-label sk-toggleable\"><input class=\"sk-toggleable__control sk-hidden--visually\" id=\"sk-estimator-id-26\" type=\"checkbox\" ><label for=\"sk-estimator-id-26\" class=\"sk-toggleable__label sk-toggleable__label-arrow\">scaler</label><div class=\"sk-toggleable__content\"><pre>[&#x27;year&#x27;, &#x27;month&#x27;, &#x27;hour&#x27;, &#x27;weekday&#x27;, &#x27;temp&#x27;, &#x27;feel_temp&#x27;, &#x27;humidity&#x27;, &#x27;windspeed&#x27;]</pre></div></div></div><div class=\"sk-serial\"><div class=\"sk-item\"><div class=\"sk-estimator sk-toggleable\"><input class=\"sk-toggleable__control sk-hidden--visually\" id=\"sk-estimator-id-27\" type=\"checkbox\" ><label for=\"sk-estimator-id-27\" class=\"sk-toggleable__label sk-toggleable__label-arrow\">StandardScaler</label><div class=\"sk-toggleable__content\"><pre>StandardScaler()</pre></div></div></div></div></div></div></div></div><div class=\"sk-item\"><div class=\"sk-estimator sk-toggleable\"><input class=\"sk-toggleable__control sk-hidden--visually\" id=\"sk-estimator-id-28\" type=\"checkbox\" ><label for=\"sk-estimator-id-28\" class=\"sk-toggleable__label sk-toggleable__label-arrow\">KNeighborsRegressor</label><div class=\"sk-toggleable__content\"><pre>KNeighborsRegressor(n_neighbors=1)</pre></div></div></div></div></div></div></div>"
      ],
      "text/plain": [
       "Pipeline(steps=[('columntransformer',\n",
       "                 ColumnTransformer(transformers=[('encoder',\n",
       "                                                  OneHotEncoder(handle_unknown='ignore'),\n",
       "                                                  ['season', 'holiday',\n",
       "                                                   'workingday', 'weather']),\n",
       "                                                 ('scaler', StandardScaler(),\n",
       "                                                  ['year', 'month', 'hour',\n",
       "                                                   'weekday', 'temp',\n",
       "                                                   'feel_temp', 'humidity',\n",
       "                                                   'windspeed'])])),\n",
       "                ('kneighborsregressor', KNeighborsRegressor(n_neighbors=1))])"
      ]
     },
     "execution_count": 34,
     "metadata": {},
     "output_type": "execute_result"
    }
   ],
   "source": [
    "from sklearn.compose import ColumnTransformer\n",
    "from sklearn.preprocessing import OneHotEncoder, StandardScaler\n",
    "from sklearn.pipeline import make_pipeline\n",
    "from sklearn.neighbors import KNeighborsRegressor\n",
    "\n",
    "categorical_columns = [\"season\", \"holiday\", \"workingday\", \"weather\",]\n",
    "numerical_columns = [\n",
    "    \"year\", \"month\", \"hour\", \"weekday\", \"temp\", \"feel_temp\", \"humidity\", \"windspeed\"\n",
    "]\n",
    "preprocessing = ColumnTransformer(transformers=[\n",
    "    (\"encoder\", OneHotEncoder(handle_unknown=\"ignore\"), categorical_columns),\n",
    "    (\"scaler\", StandardScaler(), numerical_columns),\n",
    "])\n",
    "model = make_pipeline(preprocessing, KNeighborsRegressor(n_neighbors=1))\n",
    "model"
   ]
  },
  {
   "cell_type": "code",
   "execution_count": 35,
   "metadata": {},
   "outputs": [],
   "source": [
    "from sklearn.model_selection import train_test_split\n",
    "\n",
    "X_train, X_test, y_train, y_test = train_test_split(\n",
    "    X, y, shuffle=False, random_state=42, test_size=0.2\n",
    ")"
   ]
  },
  {
   "cell_type": "code",
   "execution_count": 36,
   "metadata": {},
   "outputs": [
    {
     "name": "stdout",
     "output_type": "stream",
     "text": [
      "MAE: 119 rentals\n"
     ]
    }
   ],
   "source": [
    "from sklearn.metrics import mean_absolute_error\n",
    "\n",
    "model.fit(X_train, y_train)\n",
    "y_pred = model.predict(X_test)\n",
    "print(f\"MAE: {mean_absolute_error(y_test, y_pred):.0f} rentals\")"
   ]
  },
  {
   "cell_type": "code",
   "execution_count": 46,
   "metadata": {},
   "outputs": [
    {
     "data": {
      "text/plain": [
       "array([0.53995921, 0.56550494, 0.54955008, 0.58937248, 0.54970848,\n",
       "       0.5750184 , 0.55323522, 0.56421314, 0.55853266, 0.5056522 ])"
      ]
     },
     "execution_count": 46,
     "metadata": {},
     "output_type": "execute_result"
    }
   ],
   "source": [
    "from sklearn.model_selection import cross_validate, ShuffleSplit\n",
    "\n",
    "cv = ShuffleSplit()\n",
    "results = cross_validate(model, X, y, cv=cv)\n",
    "results[\"test_score\"]"
   ]
  },
  {
   "cell_type": "code",
   "execution_count": 47,
   "metadata": {},
   "outputs": [
    {
     "data": {
      "text/plain": [
       "array([-0.06406429,  0.01166642,  0.03483939,  0.12561052,  0.3277383 ])"
      ]
     },
     "execution_count": 47,
     "metadata": {},
     "output_type": "execute_result"
    }
   ],
   "source": [
    "from sklearn.model_selection import cross_validate, TimeSeriesSplit\n",
    "\n",
    "cv = TimeSeriesSplit()\n",
    "results = cross_validate(model, X, y, cv=cv)\n",
    "results[\"test_score\"]"
   ]
  },
  {
   "cell_type": "code",
   "execution_count": 49,
   "metadata": {},
   "outputs": [],
   "source": [
    "lagged_target = pd.concat(\n",
    "    [\n",
    "        y,\n",
    "        y.shift(1).rename(\"lagged_count_1h\"),\n",
    "        y.shift(2).rename(\"lagged_count_2h\"),\n",
    "        y.shift(3).rename(\"lagged_count_3h\"),\n",
    "        y.shift(24).rename(\"lagged_count_1d\"),\n",
    "        y.shift(24 + 1).rename(\"lagged_count_1d_1h\"),\n",
    "        y.shift(7 * 24).rename(\"lagged_count_7d\"),\n",
    "        y.shift(7 * 24 + 1).rename(\"lagged_count_7d_1h\"),\n",
    "        y.shift(1).rolling(24).mean().rename(\"lagged_mean_24h\"),\n",
    "        y.shift(1).rolling(24).max().rename(\"lagged_max_24h\"),\n",
    "        y.shift(1).rolling(24).min().rename(\"lagged_min_24h\"),\n",
    "        y.shift(1).rolling(7 * 24).mean().rename(\"lagged_mean_7d\"),\n",
    "        y.shift(1).rolling(7 * 24).max().rename(\"lagged_max_7d\"),\n",
    "        y.shift(1).rolling(7 * 24).min().rename(\"lagged_min_7d\"),\n",
    "    ],\n",
    "    axis=\"columns\",\n",
    ")"
   ]
  },
  {
   "cell_type": "code",
   "execution_count": 52,
   "metadata": {},
   "outputs": [
    {
     "data": {
      "text/html": [
       "<div>\n",
       "<style scoped>\n",
       "    .dataframe tbody tr th:only-of-type {\n",
       "        vertical-align: middle;\n",
       "    }\n",
       "\n",
       "    .dataframe tbody tr th {\n",
       "        vertical-align: top;\n",
       "    }\n",
       "\n",
       "    .dataframe thead th {\n",
       "        text-align: right;\n",
       "    }\n",
       "</style>\n",
       "<table border=\"1\" class=\"dataframe\">\n",
       "  <thead>\n",
       "    <tr style=\"text-align: right;\">\n",
       "      <th></th>\n",
       "      <th>count</th>\n",
       "      <th>lagged_count_1h</th>\n",
       "      <th>lagged_count_2h</th>\n",
       "      <th>lagged_count_3h</th>\n",
       "      <th>lagged_count_1d</th>\n",
       "      <th>lagged_count_1d_1h</th>\n",
       "      <th>lagged_count_7d</th>\n",
       "    </tr>\n",
       "    <tr>\n",
       "      <th>dteday</th>\n",
       "      <th></th>\n",
       "      <th></th>\n",
       "      <th></th>\n",
       "      <th></th>\n",
       "      <th></th>\n",
       "      <th></th>\n",
       "      <th></th>\n",
       "    </tr>\n",
       "  </thead>\n",
       "  <tbody>\n",
       "    <tr>\n",
       "      <th>2012-12-31 19:00:00</th>\n",
       "      <td>119</td>\n",
       "      <td>122.0</td>\n",
       "      <td>164.0</td>\n",
       "      <td>214.0</td>\n",
       "      <td>102.0</td>\n",
       "      <td>125.0</td>\n",
       "      <td>26.0</td>\n",
       "    </tr>\n",
       "    <tr>\n",
       "      <th>2012-12-31 20:00:00</th>\n",
       "      <td>89</td>\n",
       "      <td>119.0</td>\n",
       "      <td>122.0</td>\n",
       "      <td>164.0</td>\n",
       "      <td>72.0</td>\n",
       "      <td>102.0</td>\n",
       "      <td>18.0</td>\n",
       "    </tr>\n",
       "    <tr>\n",
       "      <th>2012-12-31 21:00:00</th>\n",
       "      <td>90</td>\n",
       "      <td>89.0</td>\n",
       "      <td>119.0</td>\n",
       "      <td>122.0</td>\n",
       "      <td>47.0</td>\n",
       "      <td>72.0</td>\n",
       "      <td>23.0</td>\n",
       "    </tr>\n",
       "    <tr>\n",
       "      <th>2012-12-31 22:00:00</th>\n",
       "      <td>61</td>\n",
       "      <td>90.0</td>\n",
       "      <td>89.0</td>\n",
       "      <td>119.0</td>\n",
       "      <td>36.0</td>\n",
       "      <td>47.0</td>\n",
       "      <td>22.0</td>\n",
       "    </tr>\n",
       "    <tr>\n",
       "      <th>2012-12-31 23:00:00</th>\n",
       "      <td>49</td>\n",
       "      <td>61.0</td>\n",
       "      <td>90.0</td>\n",
       "      <td>89.0</td>\n",
       "      <td>49.0</td>\n",
       "      <td>36.0</td>\n",
       "      <td>12.0</td>\n",
       "    </tr>\n",
       "  </tbody>\n",
       "</table>\n",
       "</div>"
      ],
      "text/plain": [
       "                     count  lagged_count_1h  lagged_count_2h  lagged_count_3h  \\\n",
       "dteday                                                                          \n",
       "2012-12-31 19:00:00    119            122.0            164.0            214.0   \n",
       "2012-12-31 20:00:00     89            119.0            122.0            164.0   \n",
       "2012-12-31 21:00:00     90             89.0            119.0            122.0   \n",
       "2012-12-31 22:00:00     61             90.0             89.0            119.0   \n",
       "2012-12-31 23:00:00     49             61.0             90.0             89.0   \n",
       "\n",
       "                     lagged_count_1d  lagged_count_1d_1h  lagged_count_7d  \n",
       "dteday                                                                     \n",
       "2012-12-31 19:00:00            102.0               125.0             26.0  \n",
       "2012-12-31 20:00:00             72.0               102.0             18.0  \n",
       "2012-12-31 21:00:00             47.0                72.0             23.0  \n",
       "2012-12-31 22:00:00             36.0                47.0             22.0  \n",
       "2012-12-31 23:00:00             49.0                36.0             12.0  "
      ]
     },
     "execution_count": 52,
     "metadata": {},
     "output_type": "execute_result"
    }
   ],
   "source": [
    "lagged_target.tail().loc[:, :\"lagged_count_7d\"]"
   ]
  },
  {
   "cell_type": "code",
   "execution_count": 76,
   "metadata": {},
   "outputs": [
    {
     "data": {
      "text/html": [
       "<div>\n",
       "<style scoped>\n",
       "    .dataframe tbody tr th:only-of-type {\n",
       "        vertical-align: middle;\n",
       "    }\n",
       "\n",
       "    .dataframe tbody tr th {\n",
       "        vertical-align: top;\n",
       "    }\n",
       "\n",
       "    .dataframe thead th {\n",
       "        text-align: right;\n",
       "    }\n",
       "</style>\n",
       "<table border=\"1\" class=\"dataframe\">\n",
       "  <thead>\n",
       "    <tr style=\"text-align: right;\">\n",
       "      <th></th>\n",
       "      <th>count</th>\n",
       "      <th>lagged_count_1h</th>\n",
       "      <th>lagged_count_2h</th>\n",
       "      <th>lagged_count_3h</th>\n",
       "      <th>lagged_count_1d</th>\n",
       "      <th>lagged_count_1d_1h</th>\n",
       "      <th>lagged_count_7d</th>\n",
       "    </tr>\n",
       "    <tr>\n",
       "      <th>dteday</th>\n",
       "      <th></th>\n",
       "      <th></th>\n",
       "      <th></th>\n",
       "      <th></th>\n",
       "      <th></th>\n",
       "      <th></th>\n",
       "      <th></th>\n",
       "    </tr>\n",
       "  </thead>\n",
       "  <tbody>\n",
       "    <tr>\n",
       "      <th>2011-01-01 00:00:00</th>\n",
       "      <td>16</td>\n",
       "      <td>NaN</td>\n",
       "      <td>NaN</td>\n",
       "      <td>NaN</td>\n",
       "      <td>NaN</td>\n",
       "      <td>NaN</td>\n",
       "      <td>NaN</td>\n",
       "    </tr>\n",
       "    <tr>\n",
       "      <th>2011-01-01 01:00:00</th>\n",
       "      <td>40</td>\n",
       "      <td>16.0</td>\n",
       "      <td>NaN</td>\n",
       "      <td>NaN</td>\n",
       "      <td>NaN</td>\n",
       "      <td>NaN</td>\n",
       "      <td>NaN</td>\n",
       "    </tr>\n",
       "    <tr>\n",
       "      <th>2011-01-01 02:00:00</th>\n",
       "      <td>32</td>\n",
       "      <td>40.0</td>\n",
       "      <td>16.0</td>\n",
       "      <td>NaN</td>\n",
       "      <td>NaN</td>\n",
       "      <td>NaN</td>\n",
       "      <td>NaN</td>\n",
       "    </tr>\n",
       "    <tr>\n",
       "      <th>2011-01-01 03:00:00</th>\n",
       "      <td>13</td>\n",
       "      <td>32.0</td>\n",
       "      <td>40.0</td>\n",
       "      <td>16.0</td>\n",
       "      <td>NaN</td>\n",
       "      <td>NaN</td>\n",
       "      <td>NaN</td>\n",
       "    </tr>\n",
       "    <tr>\n",
       "      <th>2011-01-01 04:00:00</th>\n",
       "      <td>1</td>\n",
       "      <td>13.0</td>\n",
       "      <td>32.0</td>\n",
       "      <td>40.0</td>\n",
       "      <td>NaN</td>\n",
       "      <td>NaN</td>\n",
       "      <td>NaN</td>\n",
       "    </tr>\n",
       "  </tbody>\n",
       "</table>\n",
       "</div>"
      ],
      "text/plain": [
       "                     count  lagged_count_1h  lagged_count_2h  lagged_count_3h  \\\n",
       "dteday                                                                          \n",
       "2011-01-01 00:00:00     16              NaN              NaN              NaN   \n",
       "2011-01-01 01:00:00     40             16.0              NaN              NaN   \n",
       "2011-01-01 02:00:00     32             40.0             16.0              NaN   \n",
       "2011-01-01 03:00:00     13             32.0             40.0             16.0   \n",
       "2011-01-01 04:00:00      1             13.0             32.0             40.0   \n",
       "\n",
       "                     lagged_count_1d  lagged_count_1d_1h  lagged_count_7d  \n",
       "dteday                                                                     \n",
       "2011-01-01 00:00:00              NaN                 NaN              NaN  \n",
       "2011-01-01 01:00:00              NaN                 NaN              NaN  \n",
       "2011-01-01 02:00:00              NaN                 NaN              NaN  \n",
       "2011-01-01 03:00:00              NaN                 NaN              NaN  \n",
       "2011-01-01 04:00:00              NaN                 NaN              NaN  "
      ]
     },
     "execution_count": 76,
     "metadata": {},
     "output_type": "execute_result"
    }
   ],
   "source": [
    "lagged_target.head().loc[:, :\"lagged_count_7d\"]"
   ]
  },
  {
   "cell_type": "code",
   "execution_count": 75,
   "metadata": {},
   "outputs": [
    {
     "data": {
      "text/plain": [
       "(15699.0, 15705.0)"
      ]
     },
     "execution_count": 75,
     "metadata": {},
     "output_type": "execute_result"
    },
    {
     "data": {
      "image/png": "[encoded data removed]",
      "text/plain": [
       "<Figure size 1000x800 with 1 Axes>"
      ]
     },
     "metadata": {},
     "output_type": "display_data"
    }
   ],
   "source": [
    "import matplotlib.pyplot as plt\n",
    "\n",
    "_, ax = plt.subplots(figsize=(10, 8))\n",
    "sns.despine(offset=10)\n",
    "lagged_target.loc[\"2012-12-25\":, \"count\"].plot(label=\"Target to predict\", ax=ax)\n",
    "lagged_target.loc[\"2012-12-25\":, \"lagged_count_3h\"].plot(label=\"Data with 3h lag\", alpha=0.8, linestyle=\"-.\")\n",
    "lagged_target.loc[\"2012-12-25\":, \"lagged_count_1d\"].plot(label=\"Data with 1d lag\", alpha=0.8, linestyle=\"--\")\n",
    "ax.legend()\n",
    "ax.set_ylabel(\"# rentals\")\n",
    "ax.set_xlabel(\"\")\n",
    "ax.set_title(\"Forecasting based on lagged target\")\n",
    "ax.set_ylim(0, 350)\n",
    "ax.set_xlim(\"2012-12-25\", \"2012-12-31\")"
   ]
  },
  {
   "cell_type": "code",
   "execution_count": null,
   "metadata": {},
   "outputs": [],
   "source": []
  },
  {
   "cell_type": "code",
   "execution_count": 77,
   "metadata": {},
   "outputs": [
    {
     "data": {
      "text/plain": [
       "'1.2.dev0'"
      ]
     },
     "execution_count": 77,
     "metadata": {},
     "output_type": "execute_result"
    }
   ],
   "source": [
    "import sklearn\n",
    "import matplotlib\n",
    "import pandas\n",
    "\n",
    "sklearn.__version__"
   ]
  },
  {
   "cell_type": "markdown",
   "metadata": {},
   "source": [
    "The following cell is not necessarily needed but can help avoid some slowdowns when running this notebooks on some machines."
   ]
  },
  {
   "cell_type": "code",
   "execution_count": 78,
   "metadata": {},
   "outputs": [
    {
     "data": {
      "text/plain": [
       "[{'user_api': 'blas',\n",
       "  'internal_api': 'openblas',\n",
       "  'prefix': 'libopenblas',\n",
       "  'filepath': '/home/glemaitre/miniconda3/envs/dev/lib/python3.8/site-packages/numpy.libs/libopenblas64_p-r0-742d56dc.3.20.so',\n",
       "  'version': '0.3.20',\n",
       "  'threading_layer': 'pthreads',\n",
       "  'architecture': 'Haswell',\n",
       "  'num_threads': 4},\n",
       " {'user_api': 'blas',\n",
       "  'internal_api': 'openblas',\n",
       "  'prefix': 'libopenblas',\n",
       "  'filepath': '/home/glemaitre/miniconda3/envs/dev/lib/python3.8/site-packages/scipy.libs/libopenblasp-r0-41284840.3.18.so',\n",
       "  'version': '0.3.18',\n",
       "  'threading_layer': 'pthreads',\n",
       "  'architecture': 'Haswell',\n",
       "  'num_threads': 4},\n",
       " {'user_api': 'openmp',\n",
       "  'internal_api': 'openmp',\n",
       "  'prefix': 'libgomp',\n",
       "  'filepath': '/home/glemaitre/miniconda3/envs/dev/lib/libgomp.so.1.0.0',\n",
       "  'version': None,\n",
       "  'num_threads': 4}]"
      ]
     },
     "execution_count": 78,
     "metadata": {},
     "output_type": "execute_result"
    }
   ],
   "source": [
    "import threadpoolctl\n",
    "import joblib\n",
    "\n",
    "\n",
    "n_physical_cpus = joblib.cpu_count(only_physical_cores=True)\n",
    "threadpoolctl.threadpool_limits(limits=n_physical_cpus);\n",
    "threadpoolctl.threadpool_info()"
   ]
  },
  {
   "cell_type": "markdown",
   "metadata": {},
   "source": [
    "## Data exploration on the Bike Sharing Demand dataset\n",
    "\n",
    "We start by loading the data from the OpenML repository."
   ]
  },
  {
   "cell_type": "code",
   "execution_count": 79,
   "metadata": {},
   "outputs": [],
   "source": [
    "from sklearn.datasets import fetch_openml\n",
    "\n",
    "bike_sharing = fetch_openml(\n",
    "    \"Bike_Sharing_Demand\", version=2, as_frame=True, parser=\"pandas\",\n",
    ")\n",
    "df = bike_sharing.frame\n",
    "count = df[\"count\"]"
   ]
  },
  {
   "cell_type": "code",
   "execution_count": 80,
   "metadata": {},
   "outputs": [
    {
     "data": {
      "text/html": [
       "<div>\n",
       "<style scoped>\n",
       "    .dataframe tbody tr th:only-of-type {\n",
       "        vertical-align: middle;\n",
       "    }\n",
       "\n",
       "    .dataframe tbody tr th {\n",
       "        vertical-align: top;\n",
       "    }\n",
       "\n",
       "    .dataframe thead th {\n",
       "        text-align: right;\n",
       "    }\n",
       "</style>\n",
       "<table border=\"1\" class=\"dataframe\">\n",
       "  <thead>\n",
       "    <tr style=\"text-align: right;\">\n",
       "      <th></th>\n",
       "      <th>season</th>\n",
       "      <th>year</th>\n",
       "      <th>month</th>\n",
       "      <th>hour</th>\n",
       "      <th>holiday</th>\n",
       "      <th>weekday</th>\n",
       "      <th>workingday</th>\n",
       "      <th>weather</th>\n",
       "      <th>temp</th>\n",
       "      <th>feel_temp</th>\n",
       "      <th>humidity</th>\n",
       "      <th>windspeed</th>\n",
       "      <th>count</th>\n",
       "    </tr>\n",
       "  </thead>\n",
       "  <tbody>\n",
       "    <tr>\n",
       "      <th>0</th>\n",
       "      <td>spring</td>\n",
       "      <td>0</td>\n",
       "      <td>1</td>\n",
       "      <td>0</td>\n",
       "      <td>False</td>\n",
       "      <td>6</td>\n",
       "      <td>False</td>\n",
       "      <td>clear</td>\n",
       "      <td>9.84</td>\n",
       "      <td>14.395</td>\n",
       "      <td>0.81</td>\n",
       "      <td>0.0000</td>\n",
       "      <td>16</td>\n",
       "    </tr>\n",
       "    <tr>\n",
       "      <th>1</th>\n",
       "      <td>spring</td>\n",
       "      <td>0</td>\n",
       "      <td>1</td>\n",
       "      <td>1</td>\n",
       "      <td>False</td>\n",
       "      <td>6</td>\n",
       "      <td>False</td>\n",
       "      <td>clear</td>\n",
       "      <td>9.02</td>\n",
       "      <td>13.635</td>\n",
       "      <td>0.80</td>\n",
       "      <td>0.0000</td>\n",
       "      <td>40</td>\n",
       "    </tr>\n",
       "    <tr>\n",
       "      <th>2</th>\n",
       "      <td>spring</td>\n",
       "      <td>0</td>\n",
       "      <td>1</td>\n",
       "      <td>2</td>\n",
       "      <td>False</td>\n",
       "      <td>6</td>\n",
       "      <td>False</td>\n",
       "      <td>clear</td>\n",
       "      <td>9.02</td>\n",
       "      <td>13.635</td>\n",
       "      <td>0.80</td>\n",
       "      <td>0.0000</td>\n",
       "      <td>32</td>\n",
       "    </tr>\n",
       "    <tr>\n",
       "      <th>3</th>\n",
       "      <td>spring</td>\n",
       "      <td>0</td>\n",
       "      <td>1</td>\n",
       "      <td>3</td>\n",
       "      <td>False</td>\n",
       "      <td>6</td>\n",
       "      <td>False</td>\n",
       "      <td>clear</td>\n",
       "      <td>9.84</td>\n",
       "      <td>14.395</td>\n",
       "      <td>0.75</td>\n",
       "      <td>0.0000</td>\n",
       "      <td>13</td>\n",
       "    </tr>\n",
       "    <tr>\n",
       "      <th>4</th>\n",
       "      <td>spring</td>\n",
       "      <td>0</td>\n",
       "      <td>1</td>\n",
       "      <td>4</td>\n",
       "      <td>False</td>\n",
       "      <td>6</td>\n",
       "      <td>False</td>\n",
       "      <td>clear</td>\n",
       "      <td>9.84</td>\n",
       "      <td>14.395</td>\n",
       "      <td>0.75</td>\n",
       "      <td>0.0000</td>\n",
       "      <td>1</td>\n",
       "    </tr>\n",
       "    <tr>\n",
       "      <th>...</th>\n",
       "      <td>...</td>\n",
       "      <td>...</td>\n",
       "      <td>...</td>\n",
       "      <td>...</td>\n",
       "      <td>...</td>\n",
       "      <td>...</td>\n",
       "      <td>...</td>\n",
       "      <td>...</td>\n",
       "      <td>...</td>\n",
       "      <td>...</td>\n",
       "      <td>...</td>\n",
       "      <td>...</td>\n",
       "      <td>...</td>\n",
       "    </tr>\n",
       "    <tr>\n",
       "      <th>17374</th>\n",
       "      <td>spring</td>\n",
       "      <td>1</td>\n",
       "      <td>12</td>\n",
       "      <td>19</td>\n",
       "      <td>False</td>\n",
       "      <td>1</td>\n",
       "      <td>True</td>\n",
       "      <td>misty</td>\n",
       "      <td>10.66</td>\n",
       "      <td>12.880</td>\n",
       "      <td>0.60</td>\n",
       "      <td>11.0014</td>\n",
       "      <td>119</td>\n",
       "    </tr>\n",
       "    <tr>\n",
       "      <th>17375</th>\n",
       "      <td>spring</td>\n",
       "      <td>1</td>\n",
       "      <td>12</td>\n",
       "      <td>20</td>\n",
       "      <td>False</td>\n",
       "      <td>1</td>\n",
       "      <td>True</td>\n",
       "      <td>misty</td>\n",
       "      <td>10.66</td>\n",
       "      <td>12.880</td>\n",
       "      <td>0.60</td>\n",
       "      <td>11.0014</td>\n",
       "      <td>89</td>\n",
       "    </tr>\n",
       "    <tr>\n",
       "      <th>17376</th>\n",
       "      <td>spring</td>\n",
       "      <td>1</td>\n",
       "      <td>12</td>\n",
       "      <td>21</td>\n",
       "      <td>False</td>\n",
       "      <td>1</td>\n",
       "      <td>True</td>\n",
       "      <td>clear</td>\n",
       "      <td>10.66</td>\n",
       "      <td>12.880</td>\n",
       "      <td>0.60</td>\n",
       "      <td>11.0014</td>\n",
       "      <td>90</td>\n",
       "    </tr>\n",
       "    <tr>\n",
       "      <th>17377</th>\n",
       "      <td>spring</td>\n",
       "      <td>1</td>\n",
       "      <td>12</td>\n",
       "      <td>22</td>\n",
       "      <td>False</td>\n",
       "      <td>1</td>\n",
       "      <td>True</td>\n",
       "      <td>clear</td>\n",
       "      <td>10.66</td>\n",
       "      <td>13.635</td>\n",
       "      <td>0.56</td>\n",
       "      <td>8.9981</td>\n",
       "      <td>61</td>\n",
       "    </tr>\n",
       "    <tr>\n",
       "      <th>17378</th>\n",
       "      <td>spring</td>\n",
       "      <td>1</td>\n",
       "      <td>12</td>\n",
       "      <td>23</td>\n",
       "      <td>False</td>\n",
       "      <td>1</td>\n",
       "      <td>True</td>\n",
       "      <td>clear</td>\n",
       "      <td>10.66</td>\n",
       "      <td>13.635</td>\n",
       "      <td>0.65</td>\n",
       "      <td>8.9981</td>\n",
       "      <td>49</td>\n",
       "    </tr>\n",
       "  </tbody>\n",
       "</table>\n",
       "<p>17379 rows × 13 columns</p>\n",
       "</div>"
      ],
      "text/plain": [
       "       season  year  month  hour holiday  weekday workingday weather   temp  \\\n",
       "0      spring     0      1     0   False        6      False   clear   9.84   \n",
       "1      spring     0      1     1   False        6      False   clear   9.02   \n",
       "2      spring     0      1     2   False        6      False   clear   9.02   \n",
       "3      spring     0      1     3   False        6      False   clear   9.84   \n",
       "4      spring     0      1     4   False        6      False   clear   9.84   \n",
       "...       ...   ...    ...   ...     ...      ...        ...     ...    ...   \n",
       "17374  spring     1     12    19   False        1       True   misty  10.66   \n",
       "17375  spring     1     12    20   False        1       True   misty  10.66   \n",
       "17376  spring     1     12    21   False        1       True   clear  10.66   \n",
       "17377  spring     1     12    22   False        1       True   clear  10.66   \n",
       "17378  spring     1     12    23   False        1       True   clear  10.66   \n",
       "\n",
       "       feel_temp  humidity  windspeed  count  \n",
       "0         14.395      0.81     0.0000     16  \n",
       "1         13.635      0.80     0.0000     40  \n",
       "2         13.635      0.80     0.0000     32  \n",
       "3         14.395      0.75     0.0000     13  \n",
       "4         14.395      0.75     0.0000      1  \n",
       "...          ...       ...        ...    ...  \n",
       "17374     12.880      0.60    11.0014    119  \n",
       "17375     12.880      0.60    11.0014     89  \n",
       "17376     12.880      0.60    11.0014     90  \n",
       "17377     13.635      0.56     8.9981     61  \n",
       "17378     13.635      0.65     8.9981     49  \n",
       "\n",
       "[17379 rows x 13 columns]"
      ]
     },
     "execution_count": 80,
     "metadata": {},
     "output_type": "execute_result"
    }
   ],
   "source": [
    "df"
   ]
  },
  {
   "cell_type": "code",
   "execution_count": 81,
   "metadata": {},
   "outputs": [
    {
     "data": {
      "image/png": "[encoded data removed]",
      "text/plain": [
       "<Figure size 1500x600 with 1 Axes>"
      ]
     },
     "metadata": {},
     "output_type": "display_data"
    }
   ],
   "source": [
    "import matplotlib.pyplot as plt\n",
    "\n",
    "\n",
    "count[:7 * 24].plot(figsize=(15, 6))\n",
    "_ = plt.title(\"First week of bike rental count data\")"
   ]
  },
  {
   "cell_type": "code",
   "execution_count": 82,
   "metadata": {},
   "outputs": [
    {
     "data": {
      "text/plain": [
       "count    17379.000000\n",
       "mean       189.463088\n",
       "std        181.387599\n",
       "min          1.000000\n",
       "25%         40.000000\n",
       "50%        142.000000\n",
       "75%        281.000000\n",
       "max        977.000000\n",
       "Name: count, dtype: float64"
      ]
     },
     "execution_count": 82,
     "metadata": {},
     "output_type": "execute_result"
    }
   ],
   "source": [
    "count.describe()"
   ]
  },
  {
   "cell_type": "code",
   "execution_count": 83,
   "metadata": {},
   "outputs": [
    {
     "data": {
      "image/png": "[encoded data removed]",
      "text/plain": [
       "<Figure size 1200x400 with 1 Axes>"
      ]
     },
     "metadata": {},
     "output_type": "display_data"
    }
   ],
   "source": [
    "fig, ax = plt.subplots(figsize=(12, 4))\n",
    "count.hist(bins=30, ax=ax)\n",
    "_ = ax.set(\n",
    "    xlabel=\"Fraction of rented fleet demand\",\n",
    "    ylabel=\"Number of hours\",\n",
    ")"
   ]
  },
  {
   "cell_type": "markdown",
   "metadata": {},
   "source": [
    "## Time-series Forecasting via Tabularization\n",
    "\n",
    "Let's consider the problem of predicting the demand at the next hour given past demands.\n",
    "\n",
    "Since the demand is a continuous variable, one could intuitively use any regression model.\n",
    "\n",
    "However we don't have the usual `(X_train, y_train)` dataset.\n",
    "\n",
    "Instead we just have `y_train` demand data sequentially organized by time.\n",
    "\n",
    "\n",
    "**TODO** draw a nice diagram here!"
   ]
  },
  {
   "cell_type": "code",
   "execution_count": 84,
   "metadata": {},
   "outputs": [
    {
     "data": {
      "text/plain": [
       "17369    247\n",
       "17370    315\n",
       "17371    214\n",
       "17372    164\n",
       "17373    122\n",
       "17374    119\n",
       "17375     89\n",
       "17376     90\n",
       "17377     61\n",
       "17378     49\n",
       "Name: count, dtype: int64"
      ]
     },
     "execution_count": 84,
     "metadata": {},
     "output_type": "execute_result"
    }
   ],
   "source": [
    "count.tail(10)"
   ]
  },
  {
   "cell_type": "code",
   "execution_count": 85,
   "metadata": {},
   "outputs": [
    {
     "data": {
      "text/html": [
       "<div>\n",
       "<style scoped>\n",
       "    .dataframe tbody tr th:only-of-type {\n",
       "        vertical-align: middle;\n",
       "    }\n",
       "\n",
       "    .dataframe tbody tr th {\n",
       "        vertical-align: top;\n",
       "    }\n",
       "\n",
       "    .dataframe thead th {\n",
       "        text-align: right;\n",
       "    }\n",
       "</style>\n",
       "<table border=\"1\" class=\"dataframe\">\n",
       "  <thead>\n",
       "    <tr style=\"text-align: right;\">\n",
       "      <th></th>\n",
       "      <th>count</th>\n",
       "      <th>lagged_count_1h</th>\n",
       "      <th>lagged_count_2h</th>\n",
       "      <th>lagged_count_3h</th>\n",
       "      <th>lagged_count_1d</th>\n",
       "      <th>lagged_count_1d_1h</th>\n",
       "      <th>lagged_count_7d</th>\n",
       "      <th>lagged_count_7d_1h</th>\n",
       "      <th>lagged_mean_24h</th>\n",
       "      <th>lagged_max_24h</th>\n",
       "      <th>lagged_min_24h</th>\n",
       "      <th>lagged_mean_7d</th>\n",
       "      <th>lagged_max_7d</th>\n",
       "      <th>lagged_min_7d</th>\n",
       "    </tr>\n",
       "  </thead>\n",
       "  <tbody>\n",
       "    <tr>\n",
       "      <th>17369</th>\n",
       "      <td>247</td>\n",
       "      <td>203.0</td>\n",
       "      <td>224.0</td>\n",
       "      <td>157.0</td>\n",
       "      <td>160.0</td>\n",
       "      <td>169.0</td>\n",
       "      <td>70.0</td>\n",
       "      <td>135.0</td>\n",
       "      <td>93.500000</td>\n",
       "      <td>224.0</td>\n",
       "      <td>1.0</td>\n",
       "      <td>67.732143</td>\n",
       "      <td>271.0</td>\n",
       "      <td>1.0</td>\n",
       "    </tr>\n",
       "    <tr>\n",
       "      <th>17370</th>\n",
       "      <td>315</td>\n",
       "      <td>247.0</td>\n",
       "      <td>203.0</td>\n",
       "      <td>224.0</td>\n",
       "      <td>138.0</td>\n",
       "      <td>160.0</td>\n",
       "      <td>46.0</td>\n",
       "      <td>70.0</td>\n",
       "      <td>97.125000</td>\n",
       "      <td>247.0</td>\n",
       "      <td>1.0</td>\n",
       "      <td>68.785714</td>\n",
       "      <td>271.0</td>\n",
       "      <td>1.0</td>\n",
       "    </tr>\n",
       "    <tr>\n",
       "      <th>17371</th>\n",
       "      <td>214</td>\n",
       "      <td>315.0</td>\n",
       "      <td>247.0</td>\n",
       "      <td>203.0</td>\n",
       "      <td>133.0</td>\n",
       "      <td>138.0</td>\n",
       "      <td>33.0</td>\n",
       "      <td>46.0</td>\n",
       "      <td>104.500000</td>\n",
       "      <td>315.0</td>\n",
       "      <td>1.0</td>\n",
       "      <td>70.386905</td>\n",
       "      <td>315.0</td>\n",
       "      <td>1.0</td>\n",
       "    </tr>\n",
       "    <tr>\n",
       "      <th>17372</th>\n",
       "      <td>164</td>\n",
       "      <td>214.0</td>\n",
       "      <td>315.0</td>\n",
       "      <td>247.0</td>\n",
       "      <td>123.0</td>\n",
       "      <td>133.0</td>\n",
       "      <td>33.0</td>\n",
       "      <td>33.0</td>\n",
       "      <td>107.875000</td>\n",
       "      <td>315.0</td>\n",
       "      <td>1.0</td>\n",
       "      <td>71.464286</td>\n",
       "      <td>315.0</td>\n",
       "      <td>1.0</td>\n",
       "    </tr>\n",
       "    <tr>\n",
       "      <th>17373</th>\n",
       "      <td>122</td>\n",
       "      <td>164.0</td>\n",
       "      <td>214.0</td>\n",
       "      <td>315.0</td>\n",
       "      <td>125.0</td>\n",
       "      <td>123.0</td>\n",
       "      <td>26.0</td>\n",
       "      <td>33.0</td>\n",
       "      <td>109.583333</td>\n",
       "      <td>315.0</td>\n",
       "      <td>1.0</td>\n",
       "      <td>72.244048</td>\n",
       "      <td>315.0</td>\n",
       "      <td>1.0</td>\n",
       "    </tr>\n",
       "    <tr>\n",
       "      <th>17374</th>\n",
       "      <td>119</td>\n",
       "      <td>122.0</td>\n",
       "      <td>164.0</td>\n",
       "      <td>214.0</td>\n",
       "      <td>102.0</td>\n",
       "      <td>125.0</td>\n",
       "      <td>26.0</td>\n",
       "      <td>26.0</td>\n",
       "      <td>109.458333</td>\n",
       "      <td>315.0</td>\n",
       "      <td>1.0</td>\n",
       "      <td>72.815476</td>\n",
       "      <td>315.0</td>\n",
       "      <td>1.0</td>\n",
       "    </tr>\n",
       "    <tr>\n",
       "      <th>17375</th>\n",
       "      <td>89</td>\n",
       "      <td>119.0</td>\n",
       "      <td>122.0</td>\n",
       "      <td>164.0</td>\n",
       "      <td>72.0</td>\n",
       "      <td>102.0</td>\n",
       "      <td>18.0</td>\n",
       "      <td>26.0</td>\n",
       "      <td>110.166667</td>\n",
       "      <td>315.0</td>\n",
       "      <td>1.0</td>\n",
       "      <td>73.369048</td>\n",
       "      <td>315.0</td>\n",
       "      <td>1.0</td>\n",
       "    </tr>\n",
       "    <tr>\n",
       "      <th>17376</th>\n",
       "      <td>90</td>\n",
       "      <td>89.0</td>\n",
       "      <td>119.0</td>\n",
       "      <td>122.0</td>\n",
       "      <td>47.0</td>\n",
       "      <td>72.0</td>\n",
       "      <td>23.0</td>\n",
       "      <td>18.0</td>\n",
       "      <td>110.875000</td>\n",
       "      <td>315.0</td>\n",
       "      <td>1.0</td>\n",
       "      <td>73.791667</td>\n",
       "      <td>315.0</td>\n",
       "      <td>1.0</td>\n",
       "    </tr>\n",
       "    <tr>\n",
       "      <th>17377</th>\n",
       "      <td>61</td>\n",
       "      <td>90.0</td>\n",
       "      <td>89.0</td>\n",
       "      <td>119.0</td>\n",
       "      <td>36.0</td>\n",
       "      <td>47.0</td>\n",
       "      <td>22.0</td>\n",
       "      <td>23.0</td>\n",
       "      <td>112.666667</td>\n",
       "      <td>315.0</td>\n",
       "      <td>1.0</td>\n",
       "      <td>74.190476</td>\n",
       "      <td>315.0</td>\n",
       "      <td>1.0</td>\n",
       "    </tr>\n",
       "    <tr>\n",
       "      <th>17378</th>\n",
       "      <td>49</td>\n",
       "      <td>61.0</td>\n",
       "      <td>90.0</td>\n",
       "      <td>89.0</td>\n",
       "      <td>49.0</td>\n",
       "      <td>36.0</td>\n",
       "      <td>12.0</td>\n",
       "      <td>22.0</td>\n",
       "      <td>113.708333</td>\n",
       "      <td>315.0</td>\n",
       "      <td>1.0</td>\n",
       "      <td>74.422619</td>\n",
       "      <td>315.0</td>\n",
       "      <td>1.0</td>\n",
       "    </tr>\n",
       "  </tbody>\n",
       "</table>\n",
       "</div>"
      ],
      "text/plain": [
       "       count  lagged_count_1h  lagged_count_2h  lagged_count_3h  \\\n",
       "17369    247            203.0            224.0            157.0   \n",
       "17370    315            247.0            203.0            224.0   \n",
       "17371    214            315.0            247.0            203.0   \n",
       "17372    164            214.0            315.0            247.0   \n",
       "17373    122            164.0            214.0            315.0   \n",
       "17374    119            122.0            164.0            214.0   \n",
       "17375     89            119.0            122.0            164.0   \n",
       "17376     90             89.0            119.0            122.0   \n",
       "17377     61             90.0             89.0            119.0   \n",
       "17378     49             61.0             90.0             89.0   \n",
       "\n",
       "       lagged_count_1d  lagged_count_1d_1h  lagged_count_7d  \\\n",
       "17369            160.0               169.0             70.0   \n",
       "17370            138.0               160.0             46.0   \n",
       "17371            133.0               138.0             33.0   \n",
       "17372            123.0               133.0             33.0   \n",
       "17373            125.0               123.0             26.0   \n",
       "17374            102.0               125.0             26.0   \n",
       "17375             72.0               102.0             18.0   \n",
       "17376             47.0                72.0             23.0   \n",
       "17377             36.0                47.0             22.0   \n",
       "17378             49.0                36.0             12.0   \n",
       "\n",
       "       lagged_count_7d_1h  lagged_mean_24h  lagged_max_24h  lagged_min_24h  \\\n",
       "17369               135.0        93.500000           224.0             1.0   \n",
       "17370                70.0        97.125000           247.0             1.0   \n",
       "17371                46.0       104.500000           315.0             1.0   \n",
       "17372                33.0       107.875000           315.0             1.0   \n",
       "17373                33.0       109.583333           315.0             1.0   \n",
       "17374                26.0       109.458333           315.0             1.0   \n",
       "17375                26.0       110.166667           315.0             1.0   \n",
       "17376                18.0       110.875000           315.0             1.0   \n",
       "17377                23.0       112.666667           315.0             1.0   \n",
       "17378                22.0       113.708333           315.0             1.0   \n",
       "\n",
       "       lagged_mean_7d  lagged_max_7d  lagged_min_7d  \n",
       "17369       67.732143          271.0            1.0  \n",
       "17370       68.785714          271.0            1.0  \n",
       "17371       70.386905          315.0            1.0  \n",
       "17372       71.464286          315.0            1.0  \n",
       "17373       72.244048          315.0            1.0  \n",
       "17374       72.815476          315.0            1.0  \n",
       "17375       73.369048          315.0            1.0  \n",
       "17376       73.791667          315.0            1.0  \n",
       "17377       74.190476          315.0            1.0  \n",
       "17378       74.422619          315.0            1.0  "
      ]
     },
     "execution_count": 85,
     "metadata": {},
     "output_type": "execute_result"
    }
   ],
   "source": [
    "import pandas as pd\n",
    "\n",
    "lagged_df = pd.concat(\n",
    "    [\n",
    "        count,\n",
    "        count.shift(1).rename(\"lagged_count_1h\"),\n",
    "        count.shift(2).rename(\"lagged_count_2h\"),\n",
    "        count.shift(3).rename(\"lagged_count_3h\"),\n",
    "        count.shift(24).rename(\"lagged_count_1d\"),\n",
    "        count.shift(24 + 1).rename(\"lagged_count_1d_1h\"),\n",
    "        count.shift(7 * 24).rename(\"lagged_count_7d\"),\n",
    "        count.shift(7 * 24 + 1).rename(\"lagged_count_7d_1h\"),\n",
    "        count.shift(1).rolling(24).mean().rename(\"lagged_mean_24h\"),\n",
    "        count.shift(1).rolling(24).max().rename(\"lagged_max_24h\"),\n",
    "        count.shift(1).rolling(24).min().rename(\"lagged_min_24h\"),\n",
    "        count.shift(1).rolling(7 * 24).mean().rename(\"lagged_mean_7d\"),\n",
    "        count.shift(1).rolling(7 * 24).max().rename(\"lagged_max_7d\"),\n",
    "        count.shift(1).rolling(7 * 24).min().rename(\"lagged_min_7d\"),\n",
    "    ],\n",
    "    axis=\"columns\",\n",
    ")\n",
    "lagged_df.tail(10)"
   ]
  },
  {
   "cell_type": "markdown",
   "metadata": {},
   "source": [
    "Whatch out however, the first lines have undefined values because their own past is unknown. This depends on how much lag we used:"
   ]
  },
  {
   "cell_type": "code",
   "execution_count": 86,
   "metadata": {},
   "outputs": [
    {
     "data": {
      "text/html": [
       "<div>\n",
       "<style scoped>\n",
       "    .dataframe tbody tr th:only-of-type {\n",
       "        vertical-align: middle;\n",
       "    }\n",
       "\n",
       "    .dataframe tbody tr th {\n",
       "        vertical-align: top;\n",
       "    }\n",
       "\n",
       "    .dataframe thead th {\n",
       "        text-align: right;\n",
       "    }\n",
       "</style>\n",
       "<table border=\"1\" class=\"dataframe\">\n",
       "  <thead>\n",
       "    <tr style=\"text-align: right;\">\n",
       "      <th></th>\n",
       "      <th>count</th>\n",
       "      <th>lagged_count_1h</th>\n",
       "      <th>lagged_count_2h</th>\n",
       "      <th>lagged_count_3h</th>\n",
       "      <th>lagged_count_1d</th>\n",
       "      <th>lagged_count_1d_1h</th>\n",
       "      <th>lagged_count_7d</th>\n",
       "      <th>lagged_count_7d_1h</th>\n",
       "      <th>lagged_mean_24h</th>\n",
       "      <th>lagged_max_24h</th>\n",
       "      <th>lagged_min_24h</th>\n",
       "      <th>lagged_mean_7d</th>\n",
       "      <th>lagged_max_7d</th>\n",
       "      <th>lagged_min_7d</th>\n",
       "    </tr>\n",
       "  </thead>\n",
       "  <tbody>\n",
       "    <tr>\n",
       "      <th>0</th>\n",
       "      <td>16</td>\n",
       "      <td>NaN</td>\n",
       "      <td>NaN</td>\n",
       "      <td>NaN</td>\n",
       "      <td>NaN</td>\n",
       "      <td>NaN</td>\n",
       "      <td>NaN</td>\n",
       "      <td>NaN</td>\n",
       "      <td>NaN</td>\n",
       "      <td>NaN</td>\n",
       "      <td>NaN</td>\n",
       "      <td>NaN</td>\n",
       "      <td>NaN</td>\n",
       "      <td>NaN</td>\n",
       "    </tr>\n",
       "    <tr>\n",
       "      <th>1</th>\n",
       "      <td>40</td>\n",
       "      <td>16.0</td>\n",
       "      <td>NaN</td>\n",
       "      <td>NaN</td>\n",
       "      <td>NaN</td>\n",
       "      <td>NaN</td>\n",
       "      <td>NaN</td>\n",
       "      <td>NaN</td>\n",
       "      <td>NaN</td>\n",
       "      <td>NaN</td>\n",
       "      <td>NaN</td>\n",
       "      <td>NaN</td>\n",
       "      <td>NaN</td>\n",
       "      <td>NaN</td>\n",
       "    </tr>\n",
       "    <tr>\n",
       "      <th>2</th>\n",
       "      <td>32</td>\n",
       "      <td>40.0</td>\n",
       "      <td>16.0</td>\n",
       "      <td>NaN</td>\n",
       "      <td>NaN</td>\n",
       "      <td>NaN</td>\n",
       "      <td>NaN</td>\n",
       "      <td>NaN</td>\n",
       "      <td>NaN</td>\n",
       "      <td>NaN</td>\n",
       "      <td>NaN</td>\n",
       "      <td>NaN</td>\n",
       "      <td>NaN</td>\n",
       "      <td>NaN</td>\n",
       "    </tr>\n",
       "    <tr>\n",
       "      <th>3</th>\n",
       "      <td>13</td>\n",
       "      <td>32.0</td>\n",
       "      <td>40.0</td>\n",
       "      <td>16.0</td>\n",
       "      <td>NaN</td>\n",
       "      <td>NaN</td>\n",
       "      <td>NaN</td>\n",
       "      <td>NaN</td>\n",
       "      <td>NaN</td>\n",
       "      <td>NaN</td>\n",
       "      <td>NaN</td>\n",
       "      <td>NaN</td>\n",
       "      <td>NaN</td>\n",
       "      <td>NaN</td>\n",
       "    </tr>\n",
       "    <tr>\n",
       "      <th>4</th>\n",
       "      <td>1</td>\n",
       "      <td>13.0</td>\n",
       "      <td>32.0</td>\n",
       "      <td>40.0</td>\n",
       "      <td>NaN</td>\n",
       "      <td>NaN</td>\n",
       "      <td>NaN</td>\n",
       "      <td>NaN</td>\n",
       "      <td>NaN</td>\n",
       "      <td>NaN</td>\n",
       "      <td>NaN</td>\n",
       "      <td>NaN</td>\n",
       "      <td>NaN</td>\n",
       "      <td>NaN</td>\n",
       "    </tr>\n",
       "    <tr>\n",
       "      <th>5</th>\n",
       "      <td>1</td>\n",
       "      <td>1.0</td>\n",
       "      <td>13.0</td>\n",
       "      <td>32.0</td>\n",
       "      <td>NaN</td>\n",
       "      <td>NaN</td>\n",
       "      <td>NaN</td>\n",
       "      <td>NaN</td>\n",
       "      <td>NaN</td>\n",
       "      <td>NaN</td>\n",
       "      <td>NaN</td>\n",
       "      <td>NaN</td>\n",
       "      <td>NaN</td>\n",
       "      <td>NaN</td>\n",
       "    </tr>\n",
       "    <tr>\n",
       "      <th>6</th>\n",
       "      <td>2</td>\n",
       "      <td>1.0</td>\n",
       "      <td>1.0</td>\n",
       "      <td>13.0</td>\n",
       "      <td>NaN</td>\n",
       "      <td>NaN</td>\n",
       "      <td>NaN</td>\n",
       "      <td>NaN</td>\n",
       "      <td>NaN</td>\n",
       "      <td>NaN</td>\n",
       "      <td>NaN</td>\n",
       "      <td>NaN</td>\n",
       "      <td>NaN</td>\n",
       "      <td>NaN</td>\n",
       "    </tr>\n",
       "    <tr>\n",
       "      <th>7</th>\n",
       "      <td>3</td>\n",
       "      <td>2.0</td>\n",
       "      <td>1.0</td>\n",
       "      <td>1.0</td>\n",
       "      <td>NaN</td>\n",
       "      <td>NaN</td>\n",
       "      <td>NaN</td>\n",
       "      <td>NaN</td>\n",
       "      <td>NaN</td>\n",
       "      <td>NaN</td>\n",
       "      <td>NaN</td>\n",
       "      <td>NaN</td>\n",
       "      <td>NaN</td>\n",
       "      <td>NaN</td>\n",
       "    </tr>\n",
       "    <tr>\n",
       "      <th>8</th>\n",
       "      <td>8</td>\n",
       "      <td>3.0</td>\n",
       "      <td>2.0</td>\n",
       "      <td>1.0</td>\n",
       "      <td>NaN</td>\n",
       "      <td>NaN</td>\n",
       "      <td>NaN</td>\n",
       "      <td>NaN</td>\n",
       "      <td>NaN</td>\n",
       "      <td>NaN</td>\n",
       "      <td>NaN</td>\n",
       "      <td>NaN</td>\n",
       "      <td>NaN</td>\n",
       "      <td>NaN</td>\n",
       "    </tr>\n",
       "    <tr>\n",
       "      <th>9</th>\n",
       "      <td>14</td>\n",
       "      <td>8.0</td>\n",
       "      <td>3.0</td>\n",
       "      <td>2.0</td>\n",
       "      <td>NaN</td>\n",
       "      <td>NaN</td>\n",
       "      <td>NaN</td>\n",
       "      <td>NaN</td>\n",
       "      <td>NaN</td>\n",
       "      <td>NaN</td>\n",
       "      <td>NaN</td>\n",
       "      <td>NaN</td>\n",
       "      <td>NaN</td>\n",
       "      <td>NaN</td>\n",
       "    </tr>\n",
       "  </tbody>\n",
       "</table>\n",
       "</div>"
      ],
      "text/plain": [
       "   count  lagged_count_1h  lagged_count_2h  lagged_count_3h  lagged_count_1d  \\\n",
       "0     16              NaN              NaN              NaN              NaN   \n",
       "1     40             16.0              NaN              NaN              NaN   \n",
       "2     32             40.0             16.0              NaN              NaN   \n",
       "3     13             32.0             40.0             16.0              NaN   \n",
       "4      1             13.0             32.0             40.0              NaN   \n",
       "5      1              1.0             13.0             32.0              NaN   \n",
       "6      2              1.0              1.0             13.0              NaN   \n",
       "7      3              2.0              1.0              1.0              NaN   \n",
       "8      8              3.0              2.0              1.0              NaN   \n",
       "9     14              8.0              3.0              2.0              NaN   \n",
       "\n",
       "   lagged_count_1d_1h  lagged_count_7d  lagged_count_7d_1h  lagged_mean_24h  \\\n",
       "0                 NaN              NaN                 NaN              NaN   \n",
       "1                 NaN              NaN                 NaN              NaN   \n",
       "2                 NaN              NaN                 NaN              NaN   \n",
       "3                 NaN              NaN                 NaN              NaN   \n",
       "4                 NaN              NaN                 NaN              NaN   \n",
       "5                 NaN              NaN                 NaN              NaN   \n",
       "6                 NaN              NaN                 NaN              NaN   \n",
       "7                 NaN              NaN                 NaN              NaN   \n",
       "8                 NaN              NaN                 NaN              NaN   \n",
       "9                 NaN              NaN                 NaN              NaN   \n",
       "\n",
       "   lagged_max_24h  lagged_min_24h  lagged_mean_7d  lagged_max_7d  \\\n",
       "0             NaN             NaN             NaN            NaN   \n",
       "1             NaN             NaN             NaN            NaN   \n",
       "2             NaN             NaN             NaN            NaN   \n",
       "3             NaN             NaN             NaN            NaN   \n",
       "4             NaN             NaN             NaN            NaN   \n",
       "5             NaN             NaN             NaN            NaN   \n",
       "6             NaN             NaN             NaN            NaN   \n",
       "7             NaN             NaN             NaN            NaN   \n",
       "8             NaN             NaN             NaN            NaN   \n",
       "9             NaN             NaN             NaN            NaN   \n",
       "\n",
       "   lagged_min_7d  \n",
       "0            NaN  \n",
       "1            NaN  \n",
       "2            NaN  \n",
       "3            NaN  \n",
       "4            NaN  \n",
       "5            NaN  \n",
       "6            NaN  \n",
       "7            NaN  \n",
       "8            NaN  \n",
       "9            NaN  "
      ]
     },
     "execution_count": 86,
     "metadata": {},
     "output_type": "execute_result"
    }
   ],
   "source": [
    "lagged_df.head(10)"
   ]
  },
  {
   "cell_type": "markdown",
   "metadata": {},
   "source": [
    "We can now separate the lagged features in a matrix `X` and the target variable (the counts to predict) in an array of the same first dimension `y`."
   ]
  },
  {
   "cell_type": "code",
   "execution_count": 87,
   "metadata": {},
   "outputs": [],
   "source": [
    "lagged_df = lagged_df.dropna()"
   ]
  },
  {
   "cell_type": "code",
   "execution_count": 88,
   "metadata": {},
   "outputs": [],
   "source": [
    "X = lagged_df.drop(\"count\", axis=\"columns\")\n",
    "y = lagged_df[\"count\"]"
   ]
  },
  {
   "cell_type": "code",
   "execution_count": 89,
   "metadata": {},
   "outputs": [
    {
     "data": {
      "text/plain": [
       "(17210, 13)"
      ]
     },
     "execution_count": 89,
     "metadata": {},
     "output_type": "execute_result"
    }
   ],
   "source": [
    "X.shape"
   ]
  },
  {
   "cell_type": "code",
   "execution_count": 90,
   "metadata": {},
   "outputs": [
    {
     "data": {
      "text/plain": [
       "(17210,)"
      ]
     },
     "execution_count": 90,
     "metadata": {},
     "output_type": "execute_result"
    }
   ],
   "source": [
    "y.shape"
   ]
  },
  {
   "cell_type": "markdown",
   "metadata": {},
   "source": [
    "## Naive Regression of the Next Hour Bike Demand\n",
    "\n",
    "Let's randomly split our tabularized dataset to train a gradient boosting regression tree (GBRT) model and evaluate it using the [Mean Absolute Percentage Error](https://scikit-learn.org/stable/modules/model_evaluation.html#mean-absolute-percentage-error)."
   ]
  },
  {
   "cell_type": "code",
   "execution_count": 91,
   "metadata": {},
   "outputs": [],
   "source": [
    "from sklearn.model_selection import train_test_split\n",
    "from sklearn.ensemble import HistGradientBoostingRegressor\n",
    "\n",
    "\n",
    "X_train, X_test, y_train, y_test = train_test_split(X, y, test_size=0.2, random_state=42)\n",
    "\n",
    "model = HistGradientBoostingRegressor().fit(X_train, y_train)"
   ]
  },
  {
   "cell_type": "code",
   "execution_count": 92,
   "metadata": {},
   "outputs": [
    {
     "data": {
      "text/plain": [
       "0.39189740362235315"
      ]
     },
     "execution_count": 92,
     "metadata": {},
     "output_type": "execute_result"
    }
   ],
   "source": [
    "from sklearn.metrics import mean_absolute_percentage_error\n",
    "\n",
    "\n",
    "y_pred = model.predict(X_test)\n",
    "mean_absolute_percentage_error(y_test, y_pred)"
   ]
  },
  {
   "cell_type": "markdown",
   "metadata": {},
   "source": [
    "### Questions\n",
    "\n",
    "- Why this way of evaluating the predictive performance of our model naive?\n",
    "    - Hint: this train-test split is only valid for *independent and identically distributed data*.\n",
    "- What should be done instead?"
   ]
  },
  {
   "cell_type": "markdown",
   "metadata": {},
   "source": [
    "## Proper Next Hour Forecasting Evaluation\n",
    "\n",
    "Let's use a proper evaluation splitting strategies that takes into account the temporal structure of the dataset to **evaluate our model's ability to predict data points in the future** (to avoid cheating by reading values from the lagged features in the training set).\n",
    "\n",
    "\n",
    "![TimeSeriesSplit](https://scikit-learn.org/stable/_images/sphx_glr_plot_cv_indices_013.png)\n",
    "\n",
    "The above diagram has 4 splits, a gap of 0 time steps and no limit on the train size."
   ]
  },
  {
   "cell_type": "code",
   "execution_count": 93,
   "metadata": {},
   "outputs": [],
   "source": [
    "from sklearn.model_selection import TimeSeriesSplit\n",
    "\n",
    "ts_cv = TimeSeriesSplit(\n",
    "    n_splits=3,            # to keep the notebook fast enough on common laptops\n",
    "    gap=48,                # 2 days data gap between train and test\n",
    "    max_train_size=10000,  # quite arbitrary, to keep train sets of comparable sizes\n",
    "    test_size=3000,        # need at lest this to hope for 2 or 3 digits of precision in scores\n",
    ")"
   ]
  },
  {
   "cell_type": "code",
   "execution_count": 94,
   "metadata": {},
   "outputs": [
    {
     "data": {
      "text/plain": [
       "3"
      ]
     },
     "execution_count": 94,
     "metadata": {},
     "output_type": "execute_result"
    }
   ],
   "source": [
    "all_splits = list(ts_cv.split(X, y))\n",
    "len(all_splits)"
   ]
  },
  {
   "cell_type": "code",
   "execution_count": 95,
   "metadata": {},
   "outputs": [
    {
     "data": {
      "text/plain": [
       "0.44300751539296973"
      ]
     },
     "execution_count": 95,
     "metadata": {},
     "output_type": "execute_result"
    }
   ],
   "source": [
    "train_idx, test_idx = all_splits[0]\n",
    "X_train, X_test = X.iloc[train_idx], X.iloc[test_idx]\n",
    "y_train, y_test = y.iloc[train_idx], y.iloc[test_idx]\n",
    "\n",
    "model = HistGradientBoostingRegressor().fit(X_train, y_train)\n",
    "y_pred = model.predict(X_test)\n",
    "mean_absolute_percentage_error(y_test, y_pred)"
   ]
  },
  {
   "cell_type": "markdown",
   "metadata": {},
   "source": [
    "The error rate of this model is better than our naive shuffling train-test split. This is quite expected but maybe the first split is easier to predict (more regular) than the others. Let's assess this variability of our error evaluation with proper cross-validation:"
   ]
  },
  {
   "cell_type": "code",
   "execution_count": 96,
   "metadata": {},
   "outputs": [
    {
     "data": {
      "text/plain": [
       "array([0.44300752, 0.27772182, 0.3697178 ])"
      ]
     },
     "execution_count": 96,
     "metadata": {},
     "output_type": "execute_result"
    }
   ],
   "source": [
    "from sklearn.model_selection import cross_val_score\n",
    "\n",
    "\n",
    "cv_mape_scores = -cross_val_score(model, X, y, cv=ts_cv, scoring=\"neg_mean_absolute_percentage_error\")\n",
    "cv_mape_scores"
   ]
  },
  {
   "cell_type": "markdown",
   "metadata": {},
   "source": [
    "The variability accross splits is quite large! In a real life setting it would be advised to use more splits to better assess the variability. Let's report the mean CV scores and their standard deviation from now on."
   ]
  },
  {
   "cell_type": "code",
   "execution_count": 97,
   "metadata": {},
   "outputs": [
    {
     "name": "stdout",
     "output_type": "stream",
     "text": [
      "CV MAPE: 0.363 ± 0.068\n"
     ]
    }
   ],
   "source": [
    "print(f\"CV MAPE: {cv_mape_scores.mean():.3f} ± {cv_mape_scores.std():.3f}\")"
   ]
  },
  {
   "cell_type": "markdown",
   "metadata": {},
   "source": [
    "To get a finer evaluation of our models we can compute and report several cross-validation metrics at once using a dedicated helper function:"
   ]
  },
  {
   "cell_type": "code",
   "execution_count": 108,
   "metadata": {},
   "outputs": [],
   "source": [
    "import numpy as np\n",
    "from sklearn.model_selection import cross_validate, TimeSeriesSplit\n",
    "from sklearn.metrics import mean_pinball_loss\n",
    "from sklearn.metrics import mean_absolute_error\n",
    "from sklearn.metrics import mean_absolute_error\n",
    "\n",
    "\n",
    "def evaluate(model, X, y):\n",
    "    def score_func(estimator, X, y):\n",
    "        y_pred = estimator.predict(X)\n",
    "        return {\n",
    "            \"mean_absolute_error\": mean_absolute_error(y, y_pred),\n",
    "            \"mean_pinball_05_loss\": mean_pinball_loss(y, y_pred, alpha=0.05),\n",
    "            \"mean_pinball_50_loss\": mean_pinball_loss(y, y_pred, alpha=0.50),\n",
    "            \"mean_pinball_95_loss\": mean_pinball_loss(y, y_pred, alpha=0.95),\n",
    "        }\n",
    "    cv = TimeSeriesSplit(n_splits=5, gap=48, max_train_size=10_000, test_size=3_000)\n",
    "    cv_results = cross_validate(model, X, y, cv=cv, scoring=score_func)\n",
    "    for key, value in cv_results.items():\n",
    "        if key.startswith(\"test_\"):\n",
    "            print(f\"{key[5:]}: {value.mean():.3f} ± {value.std():.3f}\")"
   ]
  },
  {
   "cell_type": "code",
   "execution_count": 111,
   "metadata": {},
   "outputs": [
    {
     "name": "stdout",
     "output_type": "stream",
     "text": [
      "mean_absolute_error: 40.500 ± 9.475\n",
      "mean_pinball_05_loss: 15.306 ± 3.453\n",
      "mean_pinball_50_loss: 20.250 ± 4.738\n",
      "mean_pinball_95_loss: 25.194 ± 11.798\n"
     ]
    }
   ],
   "source": [
    "from sklearn.ensemble import HistGradientBoostingRegressor\n",
    "\n",
    "\n",
    "gbrt_mse = HistGradientBoostingRegressor(loss=\"squared_error\")\n",
    "evaluate(gbrt_mse, X, y)"
   ]
  },
  {
   "cell_type": "code",
   "execution_count": 112,
   "metadata": {},
   "outputs": [
    {
     "name": "stdout",
     "output_type": "stream",
     "text": [
      "mean_absolute_error: 41.149 ± 10.268\n",
      "mean_pinball_05_loss: 14.352 ± 3.477\n",
      "mean_pinball_50_loss: 20.574 ± 5.134\n",
      "mean_pinball_95_loss: 26.796 ± 12.694\n"
     ]
    }
   ],
   "source": [
    "gbrt_poisson = HistGradientBoostingRegressor(loss=\"poisson\")\n",
    "evaluate(gbrt_poisson, X, y)"
   ]
  },
  {
   "cell_type": "markdown",
   "metadata": {},
   "source": [
    "### Analysis\n",
    "\n",
    "Compare the results of those first two models, what do you observe?\n",
    "\n",
    "- which model has the best MAPE?\n",
    "- which model has the best RMSE?\n",
    "- in your opinion, since the `squared_error` model directly optimize for the RMSE objective, do you expect to always reach the best RMSE? Why?"
   ]
  },
  {
   "cell_type": "markdown",
   "metadata": {},
   "source": [
    "### Exercise: baseline (generalized) linear models\n",
    "\n",
    "- Evaluate `sklearn.linear_model.Ridge` and `sklearn.linear_model.PoissonRegressor` on the previous feature array. Here the data has many more samples than features so it is advised to use a low enough value for the regularization parameter `alpha` of both models, e.g. `alpha=0.0001` but feel free to try other values.\n",
    "- For `Ridge`, it is recommended to use `solver=\"lsqr\"` which has proven to be more numerically stable (and fast) than alternatives on this dataset.\n",
    "- Which of the 2 models performs the best in terms of MAPE or Mean Squared Error?\n",
    "- Are those models competitive in terms of training speed and cross-validated metrics compared to the tree based models?\n",
    "\n"
   ]
  },
  {
   "cell_type": "code",
   "execution_count": 121,
   "metadata": {},
   "outputs": [
    {
     "name": "stdout",
     "output_type": "stream",
     "text": [
      "mean_absolute_error: 41.435 ± 4.303\n",
      "mean_pinball_05_loss: 20.642 ± 2.089\n",
      "mean_pinball_50_loss: 20.717 ± 2.151\n",
      "mean_pinball_95_loss: 20.793 ± 2.738\n"
     ]
    }
   ],
   "source": [
    "from sklearn.pipeline import make_pipeline\n",
    "from sklearn.preprocessing import StandardScaler\n",
    "from sklearn.linear_model import Ridge\n",
    "\n",
    "model = make_pipeline(StandardScaler(), Ridge(alpha=1e-4))\n",
    "evaluate(model, X, y)"
   ]
  },
  {
   "cell_type": "markdown",
   "metadata": {},
   "source": [
    "### Solution"
   ]
  },
  {
   "cell_type": "code",
   "execution_count": 122,
   "metadata": {},
   "outputs": [
    {
     "name": "stdout",
     "output_type": "stream",
     "text": [
      "mean_absolute_error: 41.446 ± 4.305\n",
      "mean_pinball_05_loss: 20.642 ± 2.090\n",
      "mean_pinball_50_loss: 20.723 ± 2.152\n",
      "mean_pinball_95_loss: 20.803 ± 2.743\n"
     ]
    }
   ],
   "source": [
    "from sklearn.pipeline import make_pipeline\n",
    "from sklearn.preprocessing import StandardScaler\n",
    "from sklearn.linear_model import RidgeCV\n",
    "\n",
    "alphas = np.logspace(-5, 5, num=100)\n",
    "model = make_pipeline(StandardScaler(), RidgeCV(alphas=alphas))\n",
    "evaluate(model, X, y)"
   ]
  },
  {
   "cell_type": "code",
   "execution_count": 123,
   "metadata": {},
   "outputs": [
    {
     "name": "stdout",
     "output_type": "stream",
     "text": [
      "mean_absolute_error: 99.768 ± 26.893\n",
      "mean_pinball_05_loss: 67.561 ± 27.115\n",
      "mean_pinball_50_loss: 49.884 ± 13.446\n",
      "mean_pinball_95_loss: 32.208 ± 6.230\n"
     ]
    }
   ],
   "source": [
    "from sklearn.linear_model import PoissonRegressor\n",
    "\n",
    "model = make_pipeline(StandardScaler(), PoissonRegressor(alpha=1e-4))\n",
    "evaluate(model, X, y)"
   ]
  },
  {
   "cell_type": "markdown",
   "metadata": {},
   "source": [
    "We observe that the `PoissonRegressor` model is much worse than the `Ridge` model when trained on the raw features but even the latter is not very good (e.g. a bit lower than 60% MAPE), this is much worse than the Gradient Boosting based models. One reason could be that tree-based model can naturally model non-linear statistical association between the raw `X` features and the `y` target values.\n",
    "\n",
    "**Note**: the solver for `PoissonRegressor` does not seem to work at all the raw features. I suspect ill-conditioning of the resulting optimization problem causing the `l-BFGS` solver to fail (silently!) in this case. There is work in progress to plug alternative solvers for this estimator in scikit-learn.\n",
    "\n",
    "\n",
    "## Non-linear Feature Engineering with `SplineTransformer`\n",
    "\n",
    "Let's now consider a non-linear feature transformation (expansion) using spline functions. We hope to make the combination (spline transformer + linear model) more expressive than a linear model trained directly on the raw features.\n",
    "\n",
    "\n",
    "Here is are the dimensions of the feature matrix before and after transformation by the `SplineTransformer` of scikit-learn:"
   ]
  },
  {
   "cell_type": "code",
   "execution_count": 104,
   "metadata": {},
   "outputs": [
    {
     "data": {
      "text/plain": [
       "(17210, 13)"
      ]
     },
     "execution_count": 104,
     "metadata": {},
     "output_type": "execute_result"
    }
   ],
   "source": [
    "X.shape"
   ]
  },
  {
   "cell_type": "code",
   "execution_count": 105,
   "metadata": {},
   "outputs": [
    {
     "data": {
      "text/plain": [
       "(17210, 156)"
      ]
     },
     "execution_count": 105,
     "metadata": {},
     "output_type": "execute_result"
    }
   ],
   "source": [
    "from sklearn.preprocessing import SplineTransformer\n",
    "\n",
    "\n",
    "SplineTransformer(n_knots=10, degree=3).fit_transform(X).shape"
   ]
  },
  {
   "cell_type": "markdown",
   "metadata": {},
   "source": [
    "\n",
    "You can observe that the spline-based transformation created many more derived features than originally. With this additional expressive power, one could hope that the models are no longer under fitting.\n",
    "\n",
    "Each input feature is expanded into several features via a polynomial transformation (depending on the number of spline knots and degrees). Contrary to traditional polynomial transformation, splines features are bounded and non-monotonic:\n",
    "\n",
    "![Spline Features (4 knots)](https://scikit-learn.org/stable/_images/sphx_glr_plot_polynomial_interpolation_002.png)\n",
    "\n",
    "\n",
    "### Exercise\n",
    "\n",
    "- Define and evaluate a pipeline of `sklearn.preprocessing.SplineTransformer` and `sklearn.linear_model.PoissonRegressor` on the same problem.\n",
    "- You can use the `sklearn.pipeline.make_pipeline` function to combine the two estimators into a compound non-linear regression model that does the spline expansion internally.\n",
    "\n",
    "\n",
    "**Note**: the current solver of `PoissonRegressor` (L-BFGS) is known to have trouble on this kind of features but I don't have a good solution for now, feel free to keep `max_iter=100` and silence the warning hoping that convergence is good enough.\n",
    "\n",
    "- What do you observe?\n",
    "- Are this compound model better than fitting `sklearn.linear_model.PoissonRegressor`  directly on `X` and `y`\n"
   ]
  },
  {
   "cell_type": "code",
   "execution_count": 106,
   "metadata": {},
   "outputs": [],
   "source": [
    "import warnings\n",
    "from sklearn.exceptions import ConvergenceWarning\n",
    "from sklearn.pipeline import make_pipeline\n",
    "\n",
    "\n",
    "# TODO: put your code here\n",
    "\n",
    "\n",
    "\n",
    "\n",
    "\n",
    "\n",
    "\n",
    "\n",
    "\n",
    "\n",
    "\n",
    "\n",
    "\n",
    "\n",
    "\n",
    "\n",
    "\n",
    "\n"
   ]
  },
  {
   "cell_type": "markdown",
   "metadata": {},
   "source": [
    "### Solution"
   ]
  },
  {
   "cell_type": "code",
   "execution_count": 120,
   "metadata": {},
   "outputs": [
    {
     "name": "stdout",
     "output_type": "stream",
     "text": [
      "mean_absolute_error: 69.270 ± 42.995\n",
      "mean_pinball_05_loss: 25.386 ± 17.528\n",
      "mean_pinball_50_loss: 34.635 ± 21.498\n",
      "mean_pinball_95_loss: 43.884 ± 28.616\n"
     ]
    }
   ],
   "source": [
    "import warnings\n",
    "from sklearn.exceptions import ConvergenceWarning\n",
    "from sklearn.pipeline import make_pipeline\n",
    "\n",
    "\n",
    "pipeline = make_pipeline(\n",
    "    SplineTransformer(n_knots=12, degree=3),\n",
    "    PoissonRegressor(alpha=1e-6, max_iter=300),\n",
    ")\n",
    "\n",
    "with warnings.catch_warnings():\n",
    "    warnings.simplefilter(\"ignore\", ConvergenceWarning)\n",
    "    evaluate(pipeline, X, y)"
   ]
  },
  {
   "cell_type": "code",
   "execution_count": null,
   "metadata": {},
   "outputs": [],
   "source": []
  }
 ],
 "metadata": {
  "kernelspec": {
   "display_name": "Python 3.8.13 ('dev')",
   "language": "python",
   "name": "python3"
  },
  "language_info": {
   "codemirror_mode": {
    "name": "ipython",
    "version": 3
   },
   "file_extension": ".py",
   "mimetype": "text/x-python",
   "name": "python",
   "nbconvert_exporter": "python",
   "pygments_lexer": "ipython3",
   "version": "3.8.13"
  },
  "vscode": {
   "interpreter": {
    "hash": "3bf5370db91892e403dfe62e0cbbcdc35406a05adc5638ab71ca8ba1240ef89a"
   }
  },
  "widgets": {
   "application/vnd.jupyter.widget-state+json": {
    "state": {},
    "version_major": 2,
    "version_minor": 0
   }
  }
 },
 "nbformat": 4,
 "nbformat_minor": 4
}
